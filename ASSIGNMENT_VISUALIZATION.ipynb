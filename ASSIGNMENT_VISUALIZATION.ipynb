{
 "cells": [
  {
   "cell_type": "markdown",
   "metadata": {},
   "source": [
    "# Install these libraries to use HDFS data\n",
    "```bash\n",
    "sudo apt-get install libhdf4.0\n",
    "pip install pyarrow\n",
    "pip install fsspec\n",
    "pip install hdfs\n",
    "pip install sqlalchemy\n",
    "pip install pyhive\n",
    "pip install thrift\n",
    "sudo apt install libsasl2-dev\n",
    "pip install sasl\n",
    "pip install thrift_sasl\n",
    "```\n",
    "\n",
    "# References\n",
    "\n",
    "Exporting data in Hive: https://sparkbyexamples.com/apache-hive/export-hive-table-into-csv-file-with-header/\n",
    "Querying Hive data: https://www.cdata.com/kb/tech/hive-python-pandas.rst\n"
   ]
  },
  {
   "cell_type": "code",
   "execution_count": 13,
   "metadata": {},
   "outputs": [
    {
     "name": "stdout",
     "output_type": "stream",
     "text": [
      "{'accessTime': 0, 'blockSize': 0, 'childrenNum': 6, 'fileId': 16385, 'group': 'supergroup', 'length': 0, 'modificationTime': 1655320239819, 'owner': 'root', 'pathSuffix': '', 'permission': '755', 'replication': 0, 'snapshotEnabled': True, 'storagePolicy': 0, 'type': 'DIRECTORY'}\n",
      "{'accessTime': 0, 'blockSize': 0, 'childrenNum': 2, 'fileId': 19919, 'group': 'supergroup', 'length': 0, 'modificationTime': 1658687478752, 'owner': 'hdoop', 'pathSuffix': '', 'permission': '755', 'replication': 0, 'storagePolicy': 0, 'type': 'DIRECTORY'}\n"
     ]
    },
    {
     "ename": "HdfsError",
     "evalue": "Path is not a file: /srv/uncw/summary4\n\tat org.apache.hadoop.hdfs.server.namenode.INodeFile.valueOf(INodeFile.java:90)\n\tat org.apache.hadoop.hdfs.server.namenode.INodeFile.valueOf(INodeFile.java:76)\n\tat org.apache.hadoop.hdfs.server.namenode.FSDirStatAndListingOp.getBlockLocations(FSDirStatAndListingOp.java:156)\n\tat org.apache.hadoop.hdfs.server.namenode.FSNamesystem.getBlockLocations(FSNamesystem.java:2089)\n\tat org.apache.hadoop.hdfs.server.namenode.NameNodeRpcServer.getBlockLocations(NameNodeRpcServer.java:762)\n\tat org.apache.hadoop.hdfs.protocolPB.ClientNamenodeProtocolServerSideTranslatorPB.getBlockLocations(ClientNamenodeProtocolServerSideTranslatorPB.java:458)\n\tat org.apache.hadoop.hdfs.protocol.proto.ClientNamenodeProtocolProtos$ClientNamenodeProtocol$2.callBlockingMethod(ClientNamenodeProtocolProtos.java)\n\tat org.apache.hadoop.ipc.ProtobufRpcEngine2$Server$ProtoBufRpcInvoker.call(ProtobufRpcEngine2.java:604)\n\tat org.apache.hadoop.ipc.ProtobufRpcEngine2$Server$ProtoBufRpcInvoker.call(ProtobufRpcEngine2.java:572)\n\tat org.apache.hadoop.ipc.ProtobufRpcEngine2$Server$ProtoBufRpcInvoker.call(ProtobufRpcEngine2.java:556)\n\tat org.apache.hadoop.ipc.RPC$Server.call(RPC.java:1093)\n\tat org.apache.hadoop.ipc.Server$RpcCall.run(Server.java:1043)\n\tat org.apache.hadoop.ipc.Server$RpcCall.run(Server.java:971)\n\tat java.security.AccessController.doPrivileged(Native Method)\n\tat javax.security.auth.Subject.doAs(Subject.java:422)\n\tat org.apache.hadoop.security.UserGroupInformation.doAs(UserGroupInformation.java:1878)\n\tat org.apache.hadoop.ipc.Server$Handler.run(Server.java:2976)\n",
     "output_type": "error",
     "traceback": [
      "\u001b[0;31m-------------------------------\u001b[0m",
      "\u001b[0;31mHdfsError\u001b[0mTraceback (most recent call last)",
      "\u001b[0;32m<ipython-input-13-ff57d559f989>\u001b[0m in \u001b[0;36m<module>\u001b[0;34m\u001b[0m\n\u001b[1;32m     22\u001b[0m \u001b[0;34m\u001b[0m\u001b[0m\n\u001b[1;32m     23\u001b[0m \u001b[0mhdfs_loader\u001b[0m \u001b[0;34m=\u001b[0m \u001b[0mHDFSLoader\u001b[0m\u001b[0;34m(\u001b[0m\u001b[0;34m'172.16.20.10'\u001b[0m\u001b[0;34m,\u001b[0m\u001b[0;34m'9870'\u001b[0m\u001b[0;34m)\u001b[0m\u001b[0;34m\u001b[0m\u001b[0;34m\u001b[0m\u001b[0m\n\u001b[0;32m---> 24\u001b[0;31m \u001b[0mdf\u001b[0m \u001b[0;34m=\u001b[0m \u001b[0mhdfs_loader\u001b[0m\u001b[0;34m.\u001b[0m\u001b[0mload_data\u001b[0m\u001b[0;34m(\u001b[0m\u001b[0;34m\"/srv/uncw/summary4\"\u001b[0m\u001b[0;34m)\u001b[0m\u001b[0;34m\u001b[0m\u001b[0;34m\u001b[0m\u001b[0m\n\u001b[0m\u001b[1;32m     25\u001b[0m \u001b[0mdf\u001b[0m\u001b[0;34m.\u001b[0m\u001b[0mhead\u001b[0m\u001b[0;34m(\u001b[0m\u001b[0;34m)\u001b[0m\u001b[0;34m\u001b[0m\u001b[0;34m\u001b[0m\u001b[0m\n",
      "\u001b[0;32m<ipython-input-13-ff57d559f989>\u001b[0m in \u001b[0;36mload_data\u001b[0;34m(self, fileName)\u001b[0m\n\u001b[1;32m     16\u001b[0m         \u001b[0mprint\u001b[0m\u001b[0;34m(\u001b[0m\u001b[0mself\u001b[0m\u001b[0;34m.\u001b[0m\u001b[0mclient\u001b[0m\u001b[0;34m.\u001b[0m\u001b[0mstatus\u001b[0m\u001b[0;34m(\u001b[0m\u001b[0mfileName\u001b[0m\u001b[0;34m)\u001b[0m\u001b[0;34m)\u001b[0m\u001b[0;34m\u001b[0m\u001b[0;34m\u001b[0m\u001b[0m\n\u001b[1;32m     17\u001b[0m         \u001b[0mdf\u001b[0m\u001b[0;34m=\u001b[0m\u001b[0;32mNone\u001b[0m\u001b[0;34m\u001b[0m\u001b[0;34m\u001b[0m\u001b[0m\n\u001b[0;32m---> 18\u001b[0;31m         \u001b[0;32mwith\u001b[0m \u001b[0mself\u001b[0m\u001b[0;34m.\u001b[0m\u001b[0mclient\u001b[0m\u001b[0;34m.\u001b[0m\u001b[0mread\u001b[0m\u001b[0;34m(\u001b[0m\u001b[0mfileName\u001b[0m\u001b[0;34m)\u001b[0m \u001b[0;32mas\u001b[0m \u001b[0mcf\u001b[0m\u001b[0;34m:\u001b[0m\u001b[0;34m\u001b[0m\u001b[0;34m\u001b[0m\u001b[0m\n\u001b[0m\u001b[1;32m     19\u001b[0m             \u001b[0mprint\u001b[0m\u001b[0;34m(\u001b[0m\u001b[0mtype\u001b[0m\u001b[0;34m(\u001b[0m\u001b[0mcf\u001b[0m\u001b[0;34m)\u001b[0m\u001b[0;34m)\u001b[0m\u001b[0;34m\u001b[0m\u001b[0;34m\u001b[0m\u001b[0m\n\u001b[1;32m     20\u001b[0m             \u001b[0mdf\u001b[0m\u001b[0;34m=\u001b[0m\u001b[0mpd\u001b[0m\u001b[0;34m.\u001b[0m\u001b[0mread_csv\u001b[0m\u001b[0;34m(\u001b[0m\u001b[0mcf\u001b[0m\u001b[0;34m)\u001b[0m\u001b[0;34m\u001b[0m\u001b[0;34m\u001b[0m\u001b[0m\n",
      "\u001b[0;32m/usr/lib/python3.8/contextlib.py\u001b[0m in \u001b[0;36m__enter__\u001b[0;34m(self)\u001b[0m\n\u001b[1;32m    111\u001b[0m         \u001b[0;32mdel\u001b[0m \u001b[0mself\u001b[0m\u001b[0;34m.\u001b[0m\u001b[0margs\u001b[0m\u001b[0;34m,\u001b[0m \u001b[0mself\u001b[0m\u001b[0;34m.\u001b[0m\u001b[0mkwds\u001b[0m\u001b[0;34m,\u001b[0m \u001b[0mself\u001b[0m\u001b[0;34m.\u001b[0m\u001b[0mfunc\u001b[0m\u001b[0;34m\u001b[0m\u001b[0;34m\u001b[0m\u001b[0m\n\u001b[1;32m    112\u001b[0m         \u001b[0;32mtry\u001b[0m\u001b[0;34m:\u001b[0m\u001b[0;34m\u001b[0m\u001b[0;34m\u001b[0m\u001b[0m\n\u001b[0;32m--> 113\u001b[0;31m             \u001b[0;32mreturn\u001b[0m \u001b[0mnext\u001b[0m\u001b[0;34m(\u001b[0m\u001b[0mself\u001b[0m\u001b[0;34m.\u001b[0m\u001b[0mgen\u001b[0m\u001b[0;34m)\u001b[0m\u001b[0;34m\u001b[0m\u001b[0;34m\u001b[0m\u001b[0m\n\u001b[0m\u001b[1;32m    114\u001b[0m         \u001b[0;32mexcept\u001b[0m \u001b[0mStopIteration\u001b[0m\u001b[0;34m:\u001b[0m\u001b[0;34m\u001b[0m\u001b[0;34m\u001b[0m\u001b[0m\n\u001b[1;32m    115\u001b[0m             \u001b[0;32mraise\u001b[0m \u001b[0mRuntimeError\u001b[0m\u001b[0;34m(\u001b[0m\u001b[0;34m\"generator didn't yield\"\u001b[0m\u001b[0;34m)\u001b[0m \u001b[0;32mfrom\u001b[0m \u001b[0;32mNone\u001b[0m\u001b[0;34m\u001b[0m\u001b[0;34m\u001b[0m\u001b[0m\n",
      "\u001b[0;32m~/.local/lib/python3.8/site-packages/hdfs/client.py\u001b[0m in \u001b[0;36mread\u001b[0;34m(self, hdfs_path, offset, length, buffer_size, encoding, chunk_size, delimiter, progress)\u001b[0m\n\u001b[1;32m    730\u001b[0m         \u001b[0;32mraise\u001b[0m \u001b[0mValueError\u001b[0m\u001b[0;34m(\u001b[0m\u001b[0;34m'Delimiter splitting incompatible with chunk size.'\u001b[0m\u001b[0;34m)\u001b[0m\u001b[0;34m\u001b[0m\u001b[0;34m\u001b[0m\u001b[0m\n\u001b[1;32m    731\u001b[0m     \u001b[0m_logger\u001b[0m\u001b[0;34m.\u001b[0m\u001b[0minfo\u001b[0m\u001b[0;34m(\u001b[0m\u001b[0;34m'Reading file %r.'\u001b[0m\u001b[0;34m,\u001b[0m \u001b[0mhdfs_path\u001b[0m\u001b[0;34m)\u001b[0m\u001b[0;34m\u001b[0m\u001b[0;34m\u001b[0m\u001b[0m\n\u001b[0;32m--> 732\u001b[0;31m     res = self._open(\n\u001b[0m\u001b[1;32m    733\u001b[0m       \u001b[0mhdfs_path\u001b[0m\u001b[0;34m,\u001b[0m\u001b[0;34m\u001b[0m\u001b[0;34m\u001b[0m\u001b[0m\n\u001b[1;32m    734\u001b[0m       \u001b[0moffset\u001b[0m\u001b[0;34m=\u001b[0m\u001b[0moffset\u001b[0m\u001b[0;34m,\u001b[0m\u001b[0;34m\u001b[0m\u001b[0;34m\u001b[0m\u001b[0m\n",
      "\u001b[0;32m~/.local/lib/python3.8/site-packages/hdfs/client.py\u001b[0m in \u001b[0;36mapi_handler\u001b[0;34m(client, hdfs_path, data, strict, **params)\u001b[0m\n\u001b[1;32m    116\u001b[0m           \u001b[0;32mif\u001b[0m \u001b[0merr\u001b[0m\u001b[0;34m.\u001b[0m\u001b[0mexception\u001b[0m \u001b[0;32mnot\u001b[0m \u001b[0;32min\u001b[0m \u001b[0;34m(\u001b[0m\u001b[0;34m'RetriableException'\u001b[0m\u001b[0;34m,\u001b[0m \u001b[0;34m'StandbyException'\u001b[0m\u001b[0;34m)\u001b[0m\u001b[0;34m:\u001b[0m\u001b[0;34m\u001b[0m\u001b[0;34m\u001b[0m\u001b[0m\n\u001b[1;32m    117\u001b[0m             \u001b[0;32mif\u001b[0m \u001b[0mstrict\u001b[0m\u001b[0;34m:\u001b[0m\u001b[0;34m\u001b[0m\u001b[0;34m\u001b[0m\u001b[0m\n\u001b[0;32m--> 118\u001b[0;31m               \u001b[0;32mraise\u001b[0m \u001b[0merr\u001b[0m\u001b[0;34m\u001b[0m\u001b[0;34m\u001b[0m\u001b[0m\n\u001b[0m\u001b[1;32m    119\u001b[0m             \u001b[0;32mreturn\u001b[0m \u001b[0mres\u001b[0m\u001b[0;34m\u001b[0m\u001b[0;34m\u001b[0m\u001b[0m\n\u001b[1;32m    120\u001b[0m \u001b[0;34m\u001b[0m\u001b[0m\n",
      "\u001b[0;31mHdfsError\u001b[0m: Path is not a file: /srv/uncw/summary4\n\tat org.apache.hadoop.hdfs.server.namenode.INodeFile.valueOf(INodeFile.java:90)\n\tat org.apache.hadoop.hdfs.server.namenode.INodeFile.valueOf(INodeFile.java:76)\n\tat org.apache.hadoop.hdfs.server.namenode.FSDirStatAndListingOp.getBlockLocations(FSDirStatAndListingOp.java:156)\n\tat org.apache.hadoop.hdfs.server.namenode.FSNamesystem.getBlockLocations(FSNamesystem.java:2089)\n\tat org.apache.hadoop.hdfs.server.namenode.NameNodeRpcServer.getBlockLocations(NameNodeRpcServer.java:762)\n\tat org.apache.hadoop.hdfs.protocolPB.ClientNamenodeProtocolServerSideTranslatorPB.getBlockLocations(ClientNamenodeProtocolServerSideTranslatorPB.java:458)\n\tat org.apache.hadoop.hdfs.protocol.proto.ClientNamenodeProtocolProtos$ClientNamenodeProtocol$2.callBlockingMethod(ClientNamenodeProtocolProtos.java)\n\tat org.apache.hadoop.ipc.ProtobufRpcEngine2$Server$ProtoBufRpcInvoker.call(ProtobufRpcEngine2.java:604)\n\tat org.apache.hadoop.ipc.ProtobufRpcEngine2$Server$ProtoBufRpcInvoker.call(ProtobufRpcEngine2.java:572)\n\tat org.apache.hadoop.ipc.ProtobufRpcEngine2$Server$ProtoBufRpcInvoker.call(ProtobufRpcEngine2.java:556)\n\tat org.apache.hadoop.ipc.RPC$Server.call(RPC.java:1093)\n\tat org.apache.hadoop.ipc.Server$RpcCall.run(Server.java:1043)\n\tat org.apache.hadoop.ipc.Server$RpcCall.run(Server.java:971)\n\tat java.security.AccessController.doPrivileged(Native Method)\n\tat javax.security.auth.Subject.doAs(Subject.java:422)\n\tat org.apache.hadoop.security.UserGroupInformation.doAs(UserGroupInformation.java:1878)\n\tat org.apache.hadoop.ipc.Server$Handler.run(Server.java:2976)\n"
     ]
    }
   ],
   "source": [
    "import pandas as pd\n",
    "from matplotlib import pyplot as pt\n",
    "from pyarrow import csv\n",
    "import pyarrow as pa\n",
    "\n",
    "from hdfs.ext.kerberos import KerberosClient \n",
    "\n",
    "class HDFSLoader:\n",
    "    def __init__(self, host, port):\n",
    "        self.port=port\n",
    "        self.host=host\n",
    "        self.client=KerberosClient(\"http://{}:{}\".format(host,port),'OPTIONAL')\n",
    "#         help(self.client)\n",
    "        print(self.client.status('/'))\n",
    "    def load_data(self,fileName):\n",
    "        print(self.client.status(fileName))\n",
    "        df=None\n",
    "        with self.client.read(fileName) as cf:\n",
    "            print(type(cf))\n",
    "            df=pd.read_csv(cf)\n",
    "        return df\n",
    "\n",
    "hdfs_loader = HDFSLoader('172.16.20.10','9870')\n",
    "df = hdfs_loader.load_data(\"/srv/uncw/summary4\")    \n",
    "df.head()"
   ]
  },
  {
   "cell_type": "code",
   "execution_count": 11,
   "metadata": {},
   "outputs": [
    {
     "data": {
      "text/html": [
       "<div>\n",
       "<style scoped>\n",
       "    .dataframe tbody tr th:only-of-type {\n",
       "        vertical-align: middle;\n",
       "    }\n",
       "\n",
       "    .dataframe tbody tr th {\n",
       "        vertical-align: top;\n",
       "    }\n",
       "\n",
       "    .dataframe thead th {\n",
       "        text-align: right;\n",
       "    }\n",
       "</style>\n",
       "<table border=\"1\" class=\"dataframe\">\n",
       "  <thead>\n",
       "    <tr style=\"text-align: right;\">\n",
       "      <th></th>\n",
       "      <th>attck_cnt</th>\n",
       "      <th>proto</th>\n",
       "    </tr>\n",
       "  </thead>\n",
       "  <tbody>\n",
       "    <tr>\n",
       "      <th>0</th>\n",
       "      <td>137</td>\n",
       "      <td>cbt</td>\n",
       "    </tr>\n",
       "    <tr>\n",
       "      <th>1</th>\n",
       "      <td>137</td>\n",
       "      <td>cphb</td>\n",
       "    </tr>\n",
       "    <tr>\n",
       "      <th>2</th>\n",
       "      <td>137</td>\n",
       "      <td>idrp</td>\n",
       "    </tr>\n",
       "    <tr>\n",
       "      <th>3</th>\n",
       "      <td>137</td>\n",
       "      <td>ipcomp</td>\n",
       "    </tr>\n",
       "    <tr>\n",
       "      <th>4</th>\n",
       "      <td>137</td>\n",
       "      <td>ipv6-opts</td>\n",
       "    </tr>\n",
       "  </tbody>\n",
       "</table>\n",
       "</div>"
      ],
      "text/plain": [
       "   attck_cnt      proto\n",
       "0        137        cbt\n",
       "1        137       cphb\n",
       "2        137       idrp\n",
       "3        137     ipcomp\n",
       "4        137  ipv6-opts"
      ]
     },
     "execution_count": 11,
     "metadata": {},
     "output_type": "execute_result"
    }
   ],
   "source": [
    "import pandas as pd\n",
    "from sqlalchemy import create_engine\n",
    "cloud_url='127.0.0.1'\n",
    "from IPython.core.display import display, HTML\n",
    "# Maximize the window: https://stackoverflow.com/questions/21971449/how-do-i-increase-the-cell-width-of-the-jupyter-ipython-notebook-in-my-browser\n",
    "display(HTML(\"<style>.container { width:100% !important; }</style>\"))\n",
    "# Query One\n",
    "engine=create_engine(\"hive://{}:10000/network_data\".format(cloud_url)\n",
    "                    #, connect_args={'configuration': {'hive.exec.reducers.max': '25'}},\n",
    "                    )"
   ]
  },
  {
   "cell_type": "code",
   "execution_count": null,
   "metadata": {},
   "outputs": [],
   "source": [
    "# Query #1\n",
    "df = pd.read_sql(\"select count(*)  attcK_cnt,proto from unsw where Label=binary('1') group by proto\", engine)\n",
    "df.head()"
   ]
  },
  {
   "cell_type": "code",
   "execution_count": 40,
   "metadata": {},
   "outputs": [
    {
     "data": {
      "text/html": [
       "<style>.container { width:100% !important; }</style>"
      ],
      "text/plain": [
       "<IPython.core.display.HTML object>"
      ]
     },
     "metadata": {},
     "output_type": "display_data"
    },
    {
     "data": {
      "text/plain": [
       "Text(0, 0.5, 'Number of Attacks')"
      ]
     },
     "execution_count": 40,
     "metadata": {},
     "output_type": "execute_result"
    },
    {
     "data": {
      "image/png": "[encoded data removed]",
      "text/plain": [
       "<Figure size 2160x720 with 1 Axes>"
      ]
     },
     "metadata": {
      "needs_background": "light"
     },
     "output_type": "display_data"
    }
   ],
   "source": [
    "from matplotlib import pyplot as plt\n",
    "ax=df.plot(kind=\"bar\",x=\"proto\",y=\"attck_cnt\",figsize=(30, 10))\n",
    "plt.xlabel(\"TCP Protocol\")\n",
    "plt.ylabel(\"Number of Attacks\")\n",
    "# Ref: https://www.cdata.com/kb/tech/hive-python-pandas.rst"
   ]
  },
  {
   "cell_type": "code",
   "execution_count": 43,
   "metadata": {},
   "outputs": [
    {
     "data": {
      "text/html": [
       "<div>\n",
       "<style scoped>\n",
       "    .dataframe tbody tr th:only-of-type {\n",
       "        vertical-align: middle;\n",
       "    }\n",
       "\n",
       "    .dataframe tbody tr th {\n",
       "        vertical-align: top;\n",
       "    }\n",
       "\n",
       "    .dataframe thead th {\n",
       "        text-align: right;\n",
       "    }\n",
       "</style>\n",
       "<table border=\"1\" class=\"dataframe\">\n",
       "  <thead>\n",
       "    <tr style=\"text-align: right;\">\n",
       "      <th></th>\n",
       "      <th>attck_cnt</th>\n",
       "      <th>attack_cat</th>\n",
       "    </tr>\n",
       "  </thead>\n",
       "  <tbody>\n",
       "    <tr>\n",
       "      <th>0</th>\n",
       "      <td>19195</td>\n",
       "      <td>Fuzzers</td>\n",
       "    </tr>\n",
       "    <tr>\n",
       "      <th>1</th>\n",
       "      <td>223</td>\n",
       "      <td>Shellcode</td>\n",
       "    </tr>\n",
       "    <tr>\n",
       "      <th>2</th>\n",
       "      <td>16353</td>\n",
       "      <td>DoS</td>\n",
       "    </tr>\n",
       "    <tr>\n",
       "      <th>3</th>\n",
       "      <td>1288</td>\n",
       "      <td>Shellcode</td>\n",
       "    </tr>\n",
       "    <tr>\n",
       "      <th>4</th>\n",
       "      <td>5051</td>\n",
       "      <td>Fuzzers</td>\n",
       "    </tr>\n",
       "  </tbody>\n",
       "</table>\n",
       "</div>"
      ],
      "text/plain": [
       "   attck_cnt  attack_cat\n",
       "0      19195    Fuzzers \n",
       "1        223   Shellcode\n",
       "2      16353         DoS\n",
       "3       1288  Shellcode \n",
       "4       5051     Fuzzers"
      ]
     },
     "execution_count": 43,
     "metadata": {},
     "output_type": "execute_result"
    }
   ],
   "source": [
    "# Query #2\n",
    "df = pd.read_sql(\"select count(*) attck_cnt, attack_cat from unsw where length(attack_cat)>0 group by attack_cat\", engine)\n",
    "df.head()"
   ]
  },
  {
   "cell_type": "code",
   "execution_count": 44,
   "metadata": {},
   "outputs": [
    {
     "data": {
      "text/html": [
       "<style>.container { width:100% !important; }</style>"
      ],
      "text/plain": [
       "<IPython.core.display.HTML object>"
      ]
     },
     "metadata": {},
     "output_type": "display_data"
    },
    {
     "data": {
      "text/plain": [
       "Text(0, 0.5, 'Number of Attacks')"
      ]
     },
     "execution_count": 44,
     "metadata": {},
     "output_type": "execute_result"
    },
    {
     "data": {
      "image/png": "[encoded data removed]",
      "text/plain": [
       "<Figure size 2160x720 with 1 Axes>"
      ]
     },
     "metadata": {
      "needs_background": "light"
     },
     "output_type": "display_data"
    }
   ],
   "source": [
    "from matplotlib import pyplot as plt\n",
    "from IPython.core.display import display, HTML\n",
    "display(HTML(\"<style>.container { width:100% !important; }</style>\"))\n",
    "ax=df.plot(kind=\"bar\",x=\"attack_cat\",y=\"attck_cnt\",figsize=(30, 10))\n",
    "plt.xlabel(\"Type of Attacks\")\n",
    "plt.ylabel(\"Number of Attacks\")\n",
    "# Ref: https://www.cdata.com/kb/tech/hive-python-pandas.rst"
   ]
  },
  {
   "cell_type": "code",
   "execution_count": 51,
   "metadata": {},
   "outputs": [
    {
     "data": {
      "text/html": [
       "<div>\n",
       "<style scoped>\n",
       "    .dataframe tbody tr th:only-of-type {\n",
       "        vertical-align: middle;\n",
       "    }\n",
       "\n",
       "    .dataframe tbody tr th {\n",
       "        vertical-align: top;\n",
       "    }\n",
       "\n",
       "    .dataframe thead th {\n",
       "        text-align: right;\n",
       "    }\n",
       "</style>\n",
       "<table border=\"1\" class=\"dataframe\">\n",
       "  <thead>\n",
       "    <tr style=\"text-align: right;\">\n",
       "      <th></th>\n",
       "      <th>attck_cnt</th>\n",
       "      <th>category</th>\n",
       "    </tr>\n",
       "  </thead>\n",
       "  <tbody>\n",
       "    <tr>\n",
       "      <th>0</th>\n",
       "      <td>4</td>\n",
       "      <td>Fuzzers-aes-sp3-d</td>\n",
       "    </tr>\n",
       "    <tr>\n",
       "      <th>1</th>\n",
       "      <td>6</td>\n",
       "      <td>Fuzzers -ax.25</td>\n",
       "    </tr>\n",
       "    <tr>\n",
       "      <th>2</th>\n",
       "      <td>6</td>\n",
       "      <td>Fuzzers -bbn-rcc</td>\n",
       "    </tr>\n",
       "    <tr>\n",
       "      <th>3</th>\n",
       "      <td>7</td>\n",
       "      <td>Reconnaissance -br-sat-mon</td>\n",
       "    </tr>\n",
       "    <tr>\n",
       "      <th>4</th>\n",
       "      <td>8</td>\n",
       "      <td>Analysis-cftp</td>\n",
       "    </tr>\n",
       "  </tbody>\n",
       "</table>\n",
       "</div>"
      ],
      "text/plain": [
       "   attck_cnt                    category\n",
       "0          4           Fuzzers-aes-sp3-d\n",
       "1          6              Fuzzers -ax.25\n",
       "2          6            Fuzzers -bbn-rcc\n",
       "3          7  Reconnaissance -br-sat-mon\n",
       "4          8               Analysis-cftp"
      ]
     },
     "execution_count": 51,
     "metadata": {},
     "output_type": "execute_result"
    }
   ],
   "source": [
    "# Query #3\n",
    "df = pd.read_sql(\"SELECT count(*) attck_cnt, concat_ws('-',attack_cat,proto) as category FROM unsw where length(attack_cat)>0 GROUP BY attack_cat, proto\", engine)\n",
    "df.head()"
   ]
  },
  {
   "cell_type": "code",
   "execution_count": 58,
   "metadata": {},
   "outputs": [
    {
     "data": {
      "text/plain": [
       "Text(0, 0.5, 'Number of Attacks')"
      ]
     },
     "execution_count": 58,
     "metadata": {},
     "output_type": "execute_result"
    },
    {
     "data": {
      "image/png": "[encoded data removed]",
      "text/plain": [
       "<Figure size 2160x720 with 1 Axes>"
      ]
     },
     "metadata": {
      "needs_background": "light"
     },
     "output_type": "display_data"
    }
   ],
   "source": [
    "df=df[df['attck_cnt']>200]\n",
    "ax=df.plot(kind=\"bar\",x=\"category\",y=\"attck_cnt\",figsize=(30, 10))\n",
    "\n",
    "plt.xlabel(\"Type of Attacks and protocol\")\n",
    "plt.ylabel(\"Number of Attacks\")"
   ]
  },
  {
   "cell_type": "code",
   "execution_count": 65,
   "metadata": {},
   "outputs": [
    {
     "data": {
      "text/html": [
       "<div>\n",
       "<style scoped>\n",
       "    .dataframe tbody tr th:only-of-type {\n",
       "        vertical-align: middle;\n",
       "    }\n",
       "\n",
       "    .dataframe tbody tr th {\n",
       "        vertical-align: top;\n",
       "    }\n",
       "\n",
       "    .dataframe thead th {\n",
       "        text-align: right;\n",
       "    }\n",
       "</style>\n",
       "<table border=\"1\" class=\"dataframe\">\n",
       "  <thead>\n",
       "    <tr style=\"text-align: right;\">\n",
       "      <th></th>\n",
       "      <th>total_cnt</th>\n",
       "      <th>success_attk</th>\n",
       "      <th>service</th>\n",
       "    </tr>\n",
       "  </thead>\n",
       "  <tbody>\n",
       "    <tr>\n",
       "      <th>0</th>\n",
       "      <td>1533</td>\n",
       "      <td>1529</td>\n",
       "      <td>pop3</td>\n",
       "    </tr>\n",
       "    <tr>\n",
       "      <th>1</th>\n",
       "      <td>81645</td>\n",
       "      <td>4989</td>\n",
       "      <td>smtp</td>\n",
       "    </tr>\n",
       "    <tr>\n",
       "      <th>2</th>\n",
       "      <td>125783</td>\n",
       "      <td>1890</td>\n",
       "      <td>ftp-data</td>\n",
       "    </tr>\n",
       "    <tr>\n",
       "      <th>3</th>\n",
       "      <td>206273</td>\n",
       "      <td>18847</td>\n",
       "      <td>http</td>\n",
       "    </tr>\n",
       "    <tr>\n",
       "      <th>4</th>\n",
       "      <td>781668</td>\n",
       "      <td>210631</td>\n",
       "      <td>dns</td>\n",
       "    </tr>\n",
       "  </tbody>\n",
       "</table>\n",
       "</div>"
      ],
      "text/plain": [
       "   total_cnt  success_attk   service\n",
       "0       1533          1529      pop3\n",
       "1      81645          4989      smtp\n",
       "2     125783          1890  ftp-data\n",
       "3     206273         18847      http\n",
       "4     781668        210631       dns"
      ]
     },
     "execution_count": 65,
     "metadata": {},
     "output_type": "execute_result"
    }
   ],
   "source": [
    "# Query #4\n",
    "df = pd.read_sql(\"select count(*)  total_cnt,sum(if(Label=binary('1'),1,0)) success_attk,service from unsw group by service\", engine)\n",
    "df.head()"
   ]
  },
  {
   "cell_type": "code",
   "execution_count": 66,
   "metadata": {},
   "outputs": [
    {
     "data": {
      "text/plain": [
       "Text(0, 0.5, 'Success Rate')"
      ]
     },
     "execution_count": 66,
     "metadata": {},
     "output_type": "execute_result"
    },
    {
     "data": {
      "image/png": "[encoded data removed]",
      "text/plain": [
       "<Figure size 2160x720 with 1 Axes>"
      ]
     },
     "metadata": {
      "needs_background": "light"
     },
     "output_type": "display_data"
    }
   ],
   "source": [
    "df['percentage']=df['success_attk']/df['total_cnt']*100\n",
    "# df=df[df['percentage']<100]\n",
    "ax=df.plot(kind=\"bar\",x=\"service\",y=\"percentage\",figsize=(30, 10))\n",
    "\n",
    "plt.xlabel(\"Service under attack\")\n",
    "plt.ylabel(\"Success Rate\")"
   ]
  },
  {
   "cell_type": "code",
   "execution_count": 1,
   "metadata": {},
   "outputs": [
    {
     "name": "stdout",
     "output_type": "stream",
     "text": [
      "root\n",
      " |-- srcip: string (nullable = true)\n",
      " |-- sport: integer (nullable = true)\n",
      " |-- dstip: string (nullable = true)\n",
      " |-- dsport: integer (nullable = true)\n",
      " |-- proto: string (nullable = true)\n",
      " |-- state: string (nullable = true)\n",
      " |-- dur: float (nullable = true)\n",
      " |-- sbytes: integer (nullable = true)\n",
      " |-- dbytes: integer (nullable = true)\n",
      " |-- sttl: integer (nullable = true)\n",
      " |-- dttl: integer (nullable = true)\n",
      " |-- sloss: integer (nullable = true)\n",
      " |-- dloss: integer (nullable = true)\n",
      " |-- service: string (nullable = true)\n",
      " |-- Sload: float (nullable = true)\n",
      " |-- Dload: float (nullable = true)\n",
      " |-- Spkts: integer (nullable = true)\n",
      " |-- Dpkts: integer (nullable = true)\n",
      " |-- swin: integer (nullable = true)\n",
      " |-- dwin: integer (nullable = true)\n",
      " |-- stcpb: integer (nullable = true)\n",
      " |-- dtcpb: integer (nullable = true)\n",
      " |-- smeansz: integer (nullable = true)\n",
      " |-- dmeansz: integer (nullable = true)\n",
      " |-- trans_depth: integer (nullable = true)\n",
      " |-- res_bdy_len: integer (nullable = true)\n",
      " |-- Sjit: float (nullable = true)\n",
      " |-- Djit: float (nullable = true)\n",
      " |-- Stime: timestamp (nullable = true)\n",
      " |-- Ltime: timestamp (nullable = true)\n",
      " |-- Sintpkt: float (nullable = true)\n",
      " |-- Dintpkt: float (nullable = true)\n",
      " |-- tcprtt: float (nullable = true)\n",
      " |-- synack: float (nullable = true)\n",
      " |-- ackdat: float (nullable = true)\n",
      " |-- is_sm_ips_ports: integer (nullable = true)\n",
      " |-- ct_state_ttl: integer (nullable = true)\n",
      " |-- ct_flw_http_mthd: integer (nullable = true)\n",
      " |-- is_ftp_login: integer (nullable = true)\n",
      " |-- ct_ftp_cmd: integer (nullable = true)\n",
      " |-- ct_srv_src: integer (nullable = true)\n",
      " |-- ct_srv_dst: integer (nullable = true)\n",
      " |-- ct_dst_ltm: integer (nullable = true)\n",
      " |-- ct_src_ltm: integer (nullable = true)\n",
      " |-- ct_src_dport_ltm: integer (nullable = true)\n",
      " |-- ct_dst_sport_ltm: integer (nullable = true)\n",
      " |-- ct_dst_src_ltm: integer (nullable = true)\n",
      " |-- attack_cat: string (nullable = true)\n",
      " |-- Label: integer (nullable = true)\n",
      "\n",
      "+----------+-----+-------------+------+-----+-----+--------+------+------+----+----+-----+-----+-------+---------+---------+-----+-----+----+----+---------+----------+-------+-------+-----------+-----------+---------+---------+-----+-----+---------+--------+-------+-------+-------+---------------+------------+----------------+------------+----------+----------+----------+----------+----------+----------------+----------------+--------------+----------+-----+\n",
      "|     srcip|sport|        dstip|dsport|proto|state|     dur|sbytes|dbytes|sttl|dttl|sloss|dloss|service|    Sload|    Dload|Spkts|Dpkts|swin|dwin|    stcpb|     dtcpb|smeansz|dmeansz|trans_depth|res_bdy_len|     Sjit|     Djit|Stime|Ltime|  Sintpkt| Dintpkt| tcprtt| synack| ackdat|is_sm_ips_ports|ct_state_ttl|ct_flw_http_mthd|is_ftp_login|ct_ftp_cmd|ct_srv_src|ct_srv_dst|ct_dst_ltm|ct_src_ltm|ct_src_dport_ltm|ct_dst_sport_ltm|ct_dst_src_ltm|attack_cat|Label|\n",
      "+----------+-----+-------------+------+-----+-----+--------+------+------+----+----+-----+-----+-------+---------+---------+-----+-----+----+----+---------+----------+-------+-------+-----------+-----------+---------+---------+-----+-----+---------+--------+-------+-------+-------+---------------+------------+----------------+------------+----------+----------+----------+----------+----------+----------------+----------------+--------------+----------+-----+\n",
      "|59.166.0.0|43467|149.171.126.6| 49729|  tcp|  FIN|0.101815|  4238| 65628|  31|  29|    7|   30|      -|328438.84|5087030.5|   72|   74| 255| 255|961515433|      null|     59|    887|          0|          0|      0.0| 91.57957| null| null| 1.429493|1.387192| 6.8E-4|5.46E-4|1.34E-4|              0|           0|               0|           0|         0|         7|         4|         1|         6|               1|               1|             1|      null|    0|\n",
      "|59.166.0.5|41289|149.171.126.2|  9574|  tcp|  FIN|0.044003|  2750| 29104|  31|  29|    7|   17|      -|488693.97|5181101.5|   44|   48| 255| 255|     null|1191410228|     63|    606|          0|          0| 78.12697|62.206562| null| null| 1.014977| 0.92583|0.00125|4.85E-4|7.65E-4|              0|           0|               0|           0|         0|         3|         5|         3|         3|               1|               1|             1|      null|    0|\n",
      "|59.166.0.9|43785|149.171.126.0|  6881|  tcp|  FIN| 2.79083| 10476|395734|  31|  29|   16|  143|      -|29863.518|1130840.8|  180|  320| 255| 255|     null|      null|     58|   1237|          0|          0|2707.4927| 2018.976| null| null|15.589459|8.747012|6.84E-4|5.32E-4|1.52E-4|              0|           0|               0|           0|         0|        11|         4|         3|         2|               1|               1|             1|      null|    0|\n",
      "|59.166.0.8|40691|149.171.126.9|  6881|  tcp|  FIN|  2.6335| 13350|548216|  31|  29|   21|  197|      -| 40381.24|1661560.6|  232|  438| 255| 255|  1518931|  18267719|     58|   1252|          0|          0| 718.3368|500.57288| null| null|11.399026|6.025183|6.19E-4|4.89E-4| 1.3E-4|              0|           0|               0|           0|         0|        16|         7|         7|         1|               1|               1|             1|      null|    0|\n",
      "|59.166.0.3|20393|149.171.126.3|  5190|  tcp|  FIN|0.115048|  1958|  2308|  31|  29|    6|    6|      -|129963.15|153814.06|   22|   24| 255| 255|     null|      null|     89|     96|          0|          0|435.26627|417.08563| null| null| 5.460381|4.976913| 7.1E-4|5.73E-4|1.37E-4|              0|           0|               0|           0|         0|         2|         6|         1|         4|               1|               1|             1|      null|    0|\n",
      "+----------+-----+-------------+------+-----+-----+--------+------+------+----+----+-----+-----+-------+---------+---------+-----+-----+----+----+---------+----------+-------+-------+-----------+-----------+---------+---------+-----+-----+---------+--------+-------+-------+-------+---------------+------------+----------------+------------+----------+----------+----------+----------+----------+----------------+----------------+--------------+----------+-----+\n",
      "only showing top 5 rows\n",
      "\n"
     ]
    }
   ],
   "source": [
    "import pyspark\n",
    "from pyspark.sql import SparkSession\n",
    "from pyspark.sql.types import StructType,StructField, StringType, IntegerType,BinaryType, FloatType, TimestampType\n",
    "from pyspark.sql.types import ArrayType, DoubleType, BooleanType\n",
    "from pyspark.sql.functions import col,array_contains\n",
    "\n",
    "spark=SparkSession.builder.master(\"local[1]\").appName(\"examples.com\").getOrCreate()\n",
    "schema = StructType() \\\n",
    "      .add(\"srcip\",StringType(),True) \\\n",
    "      .add(\"sport\",IntegerType(),True) \\\n",
    "      .add(\"dstip\",StringType(),True)\\\n",
    "    .add(\"dsport\", IntegerType(),True)\\\n",
    "    .add(\"proto\",StringType(),True)\\\n",
    "    .add(\"state\",StringType(),True)\\\n",
    "    .add(\"dur\",FloatType(),True)\\\n",
    "    .add(\"sbytes\",IntegerType(),True)\\\n",
    "    .add(\"dbytes\",IntegerType(),True) \\\n",
    "    .add(\"sttl\",IntegerType(),True) \\\n",
    "    .add(\"dttl\",IntegerType(),True) \\\n",
    "    .add(\"sloss\",IntegerType(),True) \\\n",
    "    .add(\"dloss\",IntegerType(),True) \\\n",
    "    .add(\"service\",StringType(),True)\\\n",
    "    .add(\"Sload\",FloatType(),True)\\\n",
    "    .add(\"Dload\",FloatType(),True)\\\n",
    "    .add(\"Spkts\",IntegerType(),True) \\\n",
    "    .add(\"Dpkts\",IntegerType(),True) \\\n",
    "    .add(\"swin\",IntegerType(),True) \\\n",
    "    .add(\"dwin\",IntegerType(),True) \\\n",
    "    .add(\"stcpb\",IntegerType(),True) \\\n",
    "    .add(\"dtcpb\",IntegerType(),True) \\\n",
    "    .add(\"smeansz\",IntegerType(),True) \\\n",
    "    .add(\"dmeansz\",IntegerType(),True) \\\n",
    "    .add(\"trans_depth\",IntegerType(),True) \\\n",
    "    .add(\"res_bdy_len\",IntegerType(),True) \\\n",
    "    .add(\"Sjit\",FloatType(),True)\\\n",
    "    .add(\"Djit\",FloatType(),True)\\\n",
    "    .add(\"Stime\",TimestampType(),True)\\\n",
    "    .add(\"Ltime\",TimestampType(),True)\\\n",
    "    .add(\"Sintpkt\",FloatType(),True)\\\n",
    "    .add(\"Dintpkt\",FloatType(),True)\\\n",
    "    .add(\"tcprtt\",FloatType(),True)\\\n",
    "    .add(\"synack\",FloatType(),True)\\\n",
    "    .add(\"ackdat\",FloatType(),True)\\\n",
    "    .add(\"is_sm_ips_ports\",IntegerType(),True)\\\n",
    "    .add(\"ct_state_ttl\",IntegerType(),True) \\\n",
    "    .add(\"ct_flw_http_mthd\",IntegerType(),True) \\\n",
    "    .add(\"is_ftp_login\",IntegerType(),True)\\\n",
    "    .add(\"ct_ftp_cmd\",IntegerType(),True) \\\n",
    "    .add(\"ct_srv_src\",IntegerType(),True) \\\n",
    "    .add(\"ct_srv_dst\",IntegerType(),True) \\\n",
    "    .add(\"ct_dst_ltm\",IntegerType(),True) \\\n",
    "    .add(\"ct_src_ltm\",IntegerType(),True) \\\n",
    "    .add(\"ct_src_dport_ltm\",IntegerType(),True) \\\n",
    "    .add(\"ct_dst_sport_ltm\",IntegerType(),True) \\\n",
    "    .add(\"ct_dst_src_ltm\",IntegerType(),True) \\\n",
    "    .add(\"attack_cat\",StringType(),True)\\\n",
    "    .add(\"Label\",IntegerType(),True)\n",
    "rdd=spark.read.options(header=True).schema(schema).csv('hdoop/UNSW-NB15.csv')\n",
    "rdd.printSchema()\n",
    "rdd.show(5)"
   ]
  },
  {
   "cell_type": "code",
   "execution_count": 33,
   "metadata": {},
   "outputs": [
    {
     "name": "stdout",
     "output_type": "stream",
     "text": [
      "--------Sample summary\n",
      "+-------+------------------+------------------+------------------+-----------------+------------------+-----------------+------------------+-------------------+-----------------+\n",
      "|summary|               dur|            sbytes|            dbytes|             sttl|              dttl|            sloss|             dloss|              Sload|            Dload|\n",
      "+-------+------------------+------------------+------------------+-----------------+------------------+-----------------+------------------+-------------------+-----------------+\n",
      "|  count|           2539738|           2539738|           2539738|          2539738|           2539738|          2539738|           2539738|            2539738|          2539738|\n",
      "|   mean|0.6588633348039957| 4340.070896289302| 36432.01927679154|62.78151053376372|30.770441675479912|5.164537444413558|16.331417650167065|3.694929380991353E7|2451159.341655907|\n",
      "| stddev|13.925770377625211|56409.409186153316|161105.33522674238| 74.6267115956767|42.851930611408726| 22.5183674285243|56.597900641709714|1.186041588816893E8| 4225033.48371331|\n",
      "|    min|               0.0|                 0|                 0|                0|                 0|                0|                 0|                0.0|              0.0|\n",
      "|    max|          8786.638|          14355774|          14657531|              255|               254|             5319|              5507|        5.9880003E9|     1.28761904E8|\n",
      "+-------+------------------+------------------+------------------+-----------------+------------------+-----------------+------------------+-------------------+-----------------+\n",
      "\n",
      "--------Summary 2\n",
      "+-------+------------------+------------------+-------------------+-------------------+------------------+-----------------+-------------------+-----------------+\n",
      "|summary|              swin|              dwin|              stcpb|              dtcpb|           smeansz|          dmeansz|        trans_depth|      res_bdy_len|\n",
      "+-------+------------------+------------------+-------------------+-------------------+------------------+-----------------+-------------------+-----------------+\n",
      "|  count|           2539738|           2539738|            1793941|            1793313|           2539738|          2539738|            2539738|          2539738|\n",
      "|   mean| 150.1069094528648|149.76400203485557|4.466515304248462E8|4.460521901362088E8|124.25272961226709|276.7054900938601|0.08326331298740264|4242.633935075193|\n",
      "| stddev|125.47913866279724| 125.5406292743381| 6.63333941093266E8|6.630132162485619E8|151.92111292712218|335.6232182905606| 0.3500246217579828| 47503.3924305972|\n",
      "|    min|                 0|                 0|                  0|                  0|                 0|                0|                  0|                0|\n",
      "|    max|               255|               255|         2147483118|         2147479768|              1504|             1500|                172|          6558056|\n",
      "+-------+------------------+------------------+-------------------+-------------------+------------------+-----------------+-------------------+-----------------+\n",
      "\n",
      "--------Summary 3\n",
      "+-------+------------------+-----------------+------------------+------------------+--------------------+--------------------+--------------------+\n",
      "|summary|              Sjit|             Djit|           Sintpkt|           Dintpkt|              tcprtt|              synack|              ackdat|\n",
      "+-------+------------------+-----------------+------------------+------------------+--------------------+--------------------+--------------------+\n",
      "|  count|           2539738|          2539738|           2539738|           2539738|             2539738|             2539738|             2539738|\n",
      "|   mean|1589.1548137324119|730.1641031306448|193.04662378550054| 78.83435199475565|0.006181226453130...|0.003287994968966859|0.002893231484584339|\n",
      "| stddev|16911.380864763745|3438.758140308918| 2778.583547031933|1433.2783523955277|0.046161391795541705|0.025937250506709128| 0.02394811385842345|\n",
      "|    min|               0.0|              0.0|               0.0|               0.0|                 0.0|                 0.0|                 0.0|\n",
      "|    max|         1483830.9|         781221.1|          84371.49|          59485.32|           10.037506|            4.525272|            5.512234|\n",
      "+-------+------------------+-----------------+------------------+------------------+--------------------+--------------------+--------------------+\n",
      "\n"
     ]
    },
    {
     "ename": "AnalysisException",
     "evalue": "Column 'res_body_len' does not exist. Did you mean one of the following? [res_bdy_len, sbytes, ct_dst_ltm, ct_src_ltm, dbytes, is_ftp_login, Label, ct_ftp_cmd, ct_srv_dst, ct_srv_src, dsport, dttl, dwin, service, sloss, sport, state, sttl, swin, synack, trans_depth, Dload, Ltime, Sload, Stime, ackdat, attack_cat, ct_dst_sport_ltm, ct_dst_src_ltm, ct_src_dport_ltm, ct_state_ttl, dloss, dstip, dtcpb, dur, proto, smeansz, srcip, stcpb, Dintpkt, Djit, Dpkts, Sintpkt, Sjit, Spkts, dmeansz, tcprtt, is_sm_ips_ports, ct_flw_http_mthd];\n'Project ['res_body_len]\n+- Relation [srcip#0,sport#1,dstip#2,dsport#3,proto#4,state#5,dur#6,sbytes#7,dbytes#8,sttl#9,dttl#10,sloss#11,dloss#12,service#13,Sload#14,Dload#15,Spkts#16,Dpkts#17,swin#18,dwin#19,stcpb#20,dtcpb#21,smeansz#22,dmeansz#23,... 25 more fields] csv\n",
     "output_type": "error",
     "traceback": [
      "\u001b[0;31m---------------------------------------------------------------------------\u001b[0m",
      "\u001b[0;31mAnalysisException\u001b[0m                         Traceback (most recent call last)",
      "\u001b[0;32m<ipython-input-33-9fbbaba66858>\u001b[0m in \u001b[0;36m<module>\u001b[0;34m\u001b[0m\n\u001b[1;32m     18\u001b[0m \u001b[0mvariants\u001b[0m\u001b[0;34m=\u001b[0m\u001b[0;34m[\u001b[0m\u001b[0;34m\"Dintpkt\"\u001b[0m\u001b[0;34m,\u001b[0m\u001b[0;34m\"Sintpkt\"\u001b[0m\u001b[0;34m,\u001b[0m \u001b[0;34m\"Djit\"\u001b[0m\u001b[0;34m,\u001b[0m \u001b[0;34m\"Sjit\"\u001b[0m\u001b[0;34m,\u001b[0m \u001b[0;34m\"res_body_len\"\u001b[0m\u001b[0;34m,\u001b[0m \u001b[0;34m\"Dload\"\u001b[0m\u001b[0;34m,\u001b[0m \u001b[0;34m\"sbytes\"\u001b[0m\u001b[0;34m]\u001b[0m\u001b[0;34m\u001b[0m\u001b[0;34m\u001b[0m\u001b[0m\n\u001b[1;32m     19\u001b[0m \u001b[0;32mfor\u001b[0m \u001b[0ms\u001b[0m \u001b[0;32min\u001b[0m \u001b[0mvariants\u001b[0m\u001b[0;34m:\u001b[0m\u001b[0;34m\u001b[0m\u001b[0;34m\u001b[0m\u001b[0m\n\u001b[0;32m---> 20\u001b[0;31m     \u001b[0mrdd\u001b[0m\u001b[0;34m.\u001b[0m\u001b[0mselect\u001b[0m\u001b[0;34m(\u001b[0m\u001b[0ms\u001b[0m\u001b[0;34m)\u001b[0m\u001b[0;34m.\u001b[0m\u001b[0mrdd\u001b[0m\u001b[0;34m.\u001b[0m\u001b[0mflatMap\u001b[0m\u001b[0;34m(\u001b[0m\u001b[0;32mlambda\u001b[0m \u001b[0mx\u001b[0m\u001b[0;34m:\u001b[0m \u001b[0mx\u001b[0m\u001b[0;34m)\u001b[0m\u001b[0;34m.\u001b[0m\u001b[0mhistogram\u001b[0m\u001b[0;34m(\u001b[0m\u001b[0;36m8\u001b[0m\u001b[0;34m)\u001b[0m\u001b[0;34m\u001b[0m\u001b[0;34m\u001b[0m\u001b[0m\n\u001b[0m",
      "\u001b[0;32m~/.local/lib/python3.8/site-packages/pyspark/sql/dataframe.py\u001b[0m in \u001b[0;36mselect\u001b[0;34m(self, *cols)\u001b[0m\n\u001b[1;32m   2021\u001b[0m         \u001b[0;34m[\u001b[0m\u001b[0mRow\u001b[0m\u001b[0;34m(\u001b[0m\u001b[0mname\u001b[0m\u001b[0;34m=\u001b[0m\u001b[0;34m'Alice'\u001b[0m\u001b[0;34m,\u001b[0m \u001b[0mage\u001b[0m\u001b[0;34m=\u001b[0m\u001b[0;36m12\u001b[0m\u001b[0;34m)\u001b[0m\u001b[0;34m,\u001b[0m \u001b[0mRow\u001b[0m\u001b[0;34m(\u001b[0m\u001b[0mname\u001b[0m\u001b[0;34m=\u001b[0m\u001b[0;34m'Bob'\u001b[0m\u001b[0;34m,\u001b[0m \u001b[0mage\u001b[0m\u001b[0;34m=\u001b[0m\u001b[0;36m15\u001b[0m\u001b[0;34m)\u001b[0m\u001b[0;34m]\u001b[0m\u001b[0;34m\u001b[0m\u001b[0;34m\u001b[0m\u001b[0m\n\u001b[1;32m   2022\u001b[0m         \"\"\"\n\u001b[0;32m-> 2023\u001b[0;31m         \u001b[0mjdf\u001b[0m \u001b[0;34m=\u001b[0m \u001b[0mself\u001b[0m\u001b[0;34m.\u001b[0m\u001b[0m_jdf\u001b[0m\u001b[0;34m.\u001b[0m\u001b[0mselect\u001b[0m\u001b[0;34m(\u001b[0m\u001b[0mself\u001b[0m\u001b[0;34m.\u001b[0m\u001b[0m_jcols\u001b[0m\u001b[0;34m(\u001b[0m\u001b[0;34m*\u001b[0m\u001b[0mcols\u001b[0m\u001b[0;34m)\u001b[0m\u001b[0;34m)\u001b[0m\u001b[0;34m\u001b[0m\u001b[0;34m\u001b[0m\u001b[0m\n\u001b[0m\u001b[1;32m   2024\u001b[0m         \u001b[0;32mreturn\u001b[0m \u001b[0mDataFrame\u001b[0m\u001b[0;34m(\u001b[0m\u001b[0mjdf\u001b[0m\u001b[0;34m,\u001b[0m \u001b[0mself\u001b[0m\u001b[0;34m.\u001b[0m\u001b[0msparkSession\u001b[0m\u001b[0;34m)\u001b[0m\u001b[0;34m\u001b[0m\u001b[0;34m\u001b[0m\u001b[0m\n\u001b[1;32m   2025\u001b[0m \u001b[0;34m\u001b[0m\u001b[0m\n",
      "\u001b[0;32m~/.local/lib/python3.8/site-packages/py4j/java_gateway.py\u001b[0m in \u001b[0;36m__call__\u001b[0;34m(self, *args)\u001b[0m\n\u001b[1;32m   1319\u001b[0m \u001b[0;34m\u001b[0m\u001b[0m\n\u001b[1;32m   1320\u001b[0m         \u001b[0manswer\u001b[0m \u001b[0;34m=\u001b[0m \u001b[0mself\u001b[0m\u001b[0;34m.\u001b[0m\u001b[0mgateway_client\u001b[0m\u001b[0;34m.\u001b[0m\u001b[0msend_command\u001b[0m\u001b[0;34m(\u001b[0m\u001b[0mcommand\u001b[0m\u001b[0;34m)\u001b[0m\u001b[0;34m\u001b[0m\u001b[0;34m\u001b[0m\u001b[0m\n\u001b[0;32m-> 1321\u001b[0;31m         return_value = get_return_value(\n\u001b[0m\u001b[1;32m   1322\u001b[0m             answer, self.gateway_client, self.target_id, self.name)\n\u001b[1;32m   1323\u001b[0m \u001b[0;34m\u001b[0m\u001b[0m\n",
      "\u001b[0;32m~/.local/lib/python3.8/site-packages/pyspark/sql/utils.py\u001b[0m in \u001b[0;36mdeco\u001b[0;34m(*a, **kw)\u001b[0m\n\u001b[1;32m    194\u001b[0m                 \u001b[0;31m# Hide where the exception came from that shows a non-Pythonic\u001b[0m\u001b[0;34m\u001b[0m\u001b[0;34m\u001b[0m\u001b[0;34m\u001b[0m\u001b[0m\n\u001b[1;32m    195\u001b[0m                 \u001b[0;31m# JVM exception message.\u001b[0m\u001b[0;34m\u001b[0m\u001b[0;34m\u001b[0m\u001b[0;34m\u001b[0m\u001b[0m\n\u001b[0;32m--> 196\u001b[0;31m                 \u001b[0;32mraise\u001b[0m \u001b[0mconverted\u001b[0m \u001b[0;32mfrom\u001b[0m \u001b[0;32mNone\u001b[0m\u001b[0;34m\u001b[0m\u001b[0;34m\u001b[0m\u001b[0m\n\u001b[0m\u001b[1;32m    197\u001b[0m             \u001b[0;32melse\u001b[0m\u001b[0;34m:\u001b[0m\u001b[0;34m\u001b[0m\u001b[0;34m\u001b[0m\u001b[0m\n\u001b[1;32m    198\u001b[0m                 \u001b[0;32mraise\u001b[0m\u001b[0;34m\u001b[0m\u001b[0;34m\u001b[0m\u001b[0m\n",
      "\u001b[0;31mAnalysisException\u001b[0m: Column 'res_body_len' does not exist. Did you mean one of the following? [res_bdy_len, sbytes, ct_dst_ltm, ct_src_ltm, dbytes, is_ftp_login, Label, ct_ftp_cmd, ct_srv_dst, ct_srv_src, dsport, dttl, dwin, service, sloss, sport, state, sttl, swin, synack, trans_depth, Dload, Ltime, Sload, Stime, ackdat, attack_cat, ct_dst_sport_ltm, ct_dst_src_ltm, ct_src_dport_ltm, ct_state_ttl, dloss, dstip, dtcpb, dur, proto, smeansz, srcip, stcpb, Dintpkt, Djit, Dpkts, Sintpkt, Sjit, Spkts, dmeansz, tcprtt, is_sm_ips_ports, ct_flw_http_mthd];\n'Project ['res_body_len]\n+- Relation [srcip#0,sport#1,dstip#2,dsport#3,proto#4,state#5,dur#6,sbytes#7,dbytes#8,sttl#9,dttl#10,sloss#11,dloss#12,service#13,Sload#14,Dload#15,Spkts#16,Dpkts#17,swin#18,dwin#19,stcpb#20,dtcpb#21,smeansz#22,dmeansz#23,... 25 more fields] csv\n"
     ]
    }
   ],
   "source": [
    "# Descriptive statistics\n",
    "features=['dur','sbytes','dbytes','sttl','dttl','sloss','dloss','Sload','Dload']\n",
    "summary=rdd.describe(features)\n",
    "\n",
    "print(\"--------Sample summary\")\n",
    "summary.show()\n",
    "\n",
    "print(\"--------Summary 2\")\n",
    "features=[\"swin\",\"dwin\",\"stcpb\",\"dtcpb\",\"smeansz\",\"dmeansz\",\"trans_depth\",\"res_bdy_len\"]\n",
    "summary2=rdd.describe(features)\n",
    "summary2.show()\n",
    "\n",
    "print(\"--------Summary 3\")\n",
    "features=[\"Sjit\",\"Djit\",\"Stime\",\"Ltime\",\"Sintpkt\",\"Dintpkt\",\"tcprtt\",\"synack\",\"ackdat\"]\n",
    "summary3=rdd.describe(features)\n",
    "summary3.show()"
   ]
  },
  {
   "cell_type": "code",
   "execution_count": null,
   "metadata": {},
   "outputs": [],
   "source": []
  },
  {
   "cell_type": "code",
   "execution_count": 112,
   "metadata": {},
   "outputs": [
    {
     "name": "stdout",
     "output_type": "stream",
     "text": [
      "Row(avg(sbytes)=4340.070896289302)\n"
     ]
    },
    {
     "ename": "AnalysisException",
     "evalue": "Cannot resolve column name \"sbytes\" among (stddev(sbytes))",
     "output_type": "error",
     "traceback": [
      "\u001b[0;31m---------------------------------------------------------------------------\u001b[0m",
      "\u001b[0;31mAnalysisException\u001b[0m                         Traceback (most recent call last)",
      "\u001b[0;32m<ipython-input-112-3295b03f7018>\u001b[0m in \u001b[0;36m<module>\u001b[0;34m\u001b[0m\n\u001b[1;32m      6\u001b[0m \u001b[0mstd\u001b[0m\u001b[0;34m=\u001b[0m\u001b[0mrdd\u001b[0m\u001b[0;34m.\u001b[0m\u001b[0mselect\u001b[0m\u001b[0;34m(\u001b[0m\u001b[0mmean\u001b[0m\u001b[0;34m(\u001b[0m\u001b[0;34m\"sbytes\"\u001b[0m\u001b[0;34m)\u001b[0m\u001b[0;34m)\u001b[0m\u001b[0;34m.\u001b[0m\u001b[0mcollect\u001b[0m\u001b[0;34m(\u001b[0m\u001b[0;34m)\u001b[0m\u001b[0;34m\u001b[0m\u001b[0;34m\u001b[0m\u001b[0m\n\u001b[1;32m      7\u001b[0m \u001b[0mprint\u001b[0m\u001b[0;34m(\u001b[0m\u001b[0mstd\u001b[0m\u001b[0;34m[\u001b[0m\u001b[0;36m0\u001b[0m\u001b[0;34m]\u001b[0m\u001b[0;34m)\u001b[0m\u001b[0;34m\u001b[0m\u001b[0;34m\u001b[0m\u001b[0m\n\u001b[0;32m----> 8\u001b[0;31m \u001b[0mprint\u001b[0m\u001b[0;34m(\u001b[0m\u001b[0;34m\"Meand:{}\"\u001b[0m\u001b[0;34m.\u001b[0m\u001b[0mformat\u001b[0m\u001b[0;34m(\u001b[0m\u001b[0msummary\u001b[0m\u001b[0;34m[\u001b[0m\u001b[0;34m'sbytes'\u001b[0m\u001b[0;34m]\u001b[0m\u001b[0;34m[\u001b[0m\u001b[0;36m1\u001b[0m\u001b[0;34m]\u001b[0m\u001b[0;34m)\u001b[0m\u001b[0;34m)\u001b[0m\u001b[0;34m\u001b[0m\u001b[0;34m\u001b[0m\u001b[0m\n\u001b[0m\u001b[1;32m      9\u001b[0m \u001b[0;34m\u001b[0m\u001b[0m\n\u001b[1;32m     10\u001b[0m \u001b[0mhistd\u001b[0m\u001b[0;34m=\u001b[0m\u001b[0mrdd\u001b[0m\u001b[0;34m.\u001b[0m\u001b[0mselect\u001b[0m\u001b[0;34m(\u001b[0m\u001b[0;34m\"sbytes\"\u001b[0m\u001b[0;34m)\u001b[0m\u001b[0;34m.\u001b[0m\u001b[0mrdd\u001b[0m\u001b[0;34m.\u001b[0m\u001b[0mflatMap\u001b[0m\u001b[0;34m(\u001b[0m\u001b[0;32mlambda\u001b[0m \u001b[0mx\u001b[0m\u001b[0;34m:\u001b[0m \u001b[0mx\u001b[0m\u001b[0;34m)\u001b[0m\u001b[0;34m.\u001b[0m\u001b[0mfilter\u001b[0m\u001b[0;34m(\u001b[0m\u001b[0;32mlambda\u001b[0m \u001b[0mx\u001b[0m\u001b[0;34m:\u001b[0m \u001b[0mx\u001b[0m\u001b[0;34m>\u001b[0m\u001b[0;36m0\u001b[0m\u001b[0;34m)\u001b[0m\u001b[0;34m.\u001b[0m\u001b[0mhistogram\u001b[0m\u001b[0;34m(\u001b[0m\u001b[0;36m100\u001b[0m\u001b[0;34m)\u001b[0m\u001b[0;34m\u001b[0m\u001b[0;34m\u001b[0m\u001b[0m\n",
      "\u001b[0;32m~/.local/lib/python3.8/site-packages/pyspark/sql/dataframe.py\u001b[0m in \u001b[0;36m__getitem__\u001b[0;34m(self, item)\u001b[0m\n\u001b[1;32m   1963\u001b[0m         \"\"\"\n\u001b[1;32m   1964\u001b[0m         \u001b[0;32mif\u001b[0m \u001b[0misinstance\u001b[0m\u001b[0;34m(\u001b[0m\u001b[0mitem\u001b[0m\u001b[0;34m,\u001b[0m \u001b[0mstr\u001b[0m\u001b[0;34m)\u001b[0m\u001b[0;34m:\u001b[0m\u001b[0;34m\u001b[0m\u001b[0;34m\u001b[0m\u001b[0m\n\u001b[0;32m-> 1965\u001b[0;31m             \u001b[0mjc\u001b[0m \u001b[0;34m=\u001b[0m \u001b[0mself\u001b[0m\u001b[0;34m.\u001b[0m\u001b[0m_jdf\u001b[0m\u001b[0;34m.\u001b[0m\u001b[0mapply\u001b[0m\u001b[0;34m(\u001b[0m\u001b[0mitem\u001b[0m\u001b[0;34m)\u001b[0m\u001b[0;34m\u001b[0m\u001b[0;34m\u001b[0m\u001b[0m\n\u001b[0m\u001b[1;32m   1966\u001b[0m             \u001b[0;32mreturn\u001b[0m \u001b[0mColumn\u001b[0m\u001b[0;34m(\u001b[0m\u001b[0mjc\u001b[0m\u001b[0;34m)\u001b[0m\u001b[0;34m\u001b[0m\u001b[0;34m\u001b[0m\u001b[0m\n\u001b[1;32m   1967\u001b[0m         \u001b[0;32melif\u001b[0m \u001b[0misinstance\u001b[0m\u001b[0;34m(\u001b[0m\u001b[0mitem\u001b[0m\u001b[0;34m,\u001b[0m \u001b[0mColumn\u001b[0m\u001b[0;34m)\u001b[0m\u001b[0;34m:\u001b[0m\u001b[0;34m\u001b[0m\u001b[0;34m\u001b[0m\u001b[0m\n",
      "\u001b[0;32m~/.local/lib/python3.8/site-packages/py4j/java_gateway.py\u001b[0m in \u001b[0;36m__call__\u001b[0;34m(self, *args)\u001b[0m\n\u001b[1;32m   1319\u001b[0m \u001b[0;34m\u001b[0m\u001b[0m\n\u001b[1;32m   1320\u001b[0m         \u001b[0manswer\u001b[0m \u001b[0;34m=\u001b[0m \u001b[0mself\u001b[0m\u001b[0;34m.\u001b[0m\u001b[0mgateway_client\u001b[0m\u001b[0;34m.\u001b[0m\u001b[0msend_command\u001b[0m\u001b[0;34m(\u001b[0m\u001b[0mcommand\u001b[0m\u001b[0;34m)\u001b[0m\u001b[0;34m\u001b[0m\u001b[0;34m\u001b[0m\u001b[0m\n\u001b[0;32m-> 1321\u001b[0;31m         return_value = get_return_value(\n\u001b[0m\u001b[1;32m   1322\u001b[0m             answer, self.gateway_client, self.target_id, self.name)\n\u001b[1;32m   1323\u001b[0m \u001b[0;34m\u001b[0m\u001b[0m\n",
      "\u001b[0;32m~/.local/lib/python3.8/site-packages/pyspark/sql/utils.py\u001b[0m in \u001b[0;36mdeco\u001b[0;34m(*a, **kw)\u001b[0m\n\u001b[1;32m    194\u001b[0m                 \u001b[0;31m# Hide where the exception came from that shows a non-Pythonic\u001b[0m\u001b[0;34m\u001b[0m\u001b[0;34m\u001b[0m\u001b[0;34m\u001b[0m\u001b[0m\n\u001b[1;32m    195\u001b[0m                 \u001b[0;31m# JVM exception message.\u001b[0m\u001b[0;34m\u001b[0m\u001b[0;34m\u001b[0m\u001b[0;34m\u001b[0m\u001b[0m\n\u001b[0;32m--> 196\u001b[0;31m                 \u001b[0;32mraise\u001b[0m \u001b[0mconverted\u001b[0m \u001b[0;32mfrom\u001b[0m \u001b[0;32mNone\u001b[0m\u001b[0;34m\u001b[0m\u001b[0;34m\u001b[0m\u001b[0m\n\u001b[0m\u001b[1;32m    197\u001b[0m             \u001b[0;32melse\u001b[0m\u001b[0;34m:\u001b[0m\u001b[0;34m\u001b[0m\u001b[0;34m\u001b[0m\u001b[0m\n\u001b[1;32m    198\u001b[0m                 \u001b[0;32mraise\u001b[0m\u001b[0;34m\u001b[0m\u001b[0;34m\u001b[0m\u001b[0m\n",
      "\u001b[0;31mAnalysisException\u001b[0m: Cannot resolve column name \"sbytes\" among (stddev(sbytes))"
     ]
    }
   ],
   "source": [
    "import matplotlib.pyplot as plt \n",
    "from pyspark.sql.functions import mean\n",
    "import pandas as pd\n",
    "plt.style.use('ggplot') \n",
    "\n",
    "std=rdd.select(mean(\"sbytes\")).collect()\n",
    "print(std[0])\n",
    "print(\"Meand:{}\".format(summary['sbytes'][1]))\n",
    "\n",
    "histd=rdd.select(\"sbytes\").rdd.flatMap(lambda x: x).filter(lambda x: x>0).histogram(100)\n",
    "print(histd)\n",
    "\n",
    "\n",
    "hist_D=pd.DataFrame([(bins, counts) for bins, counts in zip( histd[0], histd[1] )],columns=['bins', 'counts'])\n",
    "print(hist_D.head(20))\n",
    "\n",
    "ax = hist_D.plot(kind='bar',x=\"bins\",y=\"counts\")\n",
    "# plt.set_title('Dload Histogram')\n",
    "plt.show()\n",
    "# Visualization: \n",
    "# variants=[\"Dintpkt\",\"Sintpkt\", \"Djit\", \"Sjit\", \"res_bdy_len\", \"Dload\", \"sbytes\"]\n",
    "# for s in variants:\n",
    "#     rdd.select(s).rdd.flatMap(lambda x: x).histogram(8)"
   ]
  },
  {
   "cell_type": "code",
   "execution_count": 100,
   "metadata": {},
   "outputs": [
    {
     "name": "stdout",
     "output_type": "stream",
     "text": [
      "KDE(dur)=[3.57663165e-01 3.64245962e-03 9.80698566e-04 3.33250038e-04\n",
      " 3.92618498e-04 0.00000000e+00 0.00000000e+00 0.00000000e+00\n",
      " 0.00000000e+00 0.00000000e+00 0.00000000e+00 0.00000000e+00\n",
      " 0.00000000e+00 0.00000000e+00 0.00000000e+00 0.00000000e+00\n",
      " 0.00000000e+00]\n"
     ]
    },
    {
     "ename": "Py4JJavaError",
     "evalue": "An error occurred while calling o3266.estimateKernelDensity.\n: org.apache.spark.SparkException: Job aborted due to stage failure: Task 0 in stage 401.0 failed 1 times, most recent failure: Lost task 0.0 in stage 401.0 (TID 1756) (mungai-local executor driver): java.lang.ClassCastException\n\nDriver stacktrace:\n\tat org.apache.spark.scheduler.DAGScheduler.failJobAndIndependentStages(DAGScheduler.scala:2672)\n\tat org.apache.spark.scheduler.DAGScheduler.$anonfun$abortStage$2(DAGScheduler.scala:2608)\n\tat org.apache.spark.scheduler.DAGScheduler.$anonfun$abortStage$2$adapted(DAGScheduler.scala:2607)\n\tat scala.collection.mutable.ResizableArray.foreach(ResizableArray.scala:62)\n\tat scala.collection.mutable.ResizableArray.foreach$(ResizableArray.scala:55)\n\tat scala.collection.mutable.ArrayBuffer.foreach(ArrayBuffer.scala:49)\n\tat org.apache.spark.scheduler.DAGScheduler.abortStage(DAGScheduler.scala:2607)\n\tat org.apache.spark.scheduler.DAGScheduler.$anonfun$handleTaskSetFailed$1(DAGScheduler.scala:1182)\n\tat org.apache.spark.scheduler.DAGScheduler.$anonfun$handleTaskSetFailed$1$adapted(DAGScheduler.scala:1182)\n\tat scala.Option.foreach(Option.scala:407)\n\tat org.apache.spark.scheduler.DAGScheduler.handleTaskSetFailed(DAGScheduler.scala:1182)\n\tat org.apache.spark.scheduler.DAGSchedulerEventProcessLoop.doOnReceive(DAGScheduler.scala:2860)\n\tat org.apache.spark.scheduler.DAGSchedulerEventProcessLoop.onReceive(DAGScheduler.scala:2802)\n\tat org.apache.spark.scheduler.DAGSchedulerEventProcessLoop.onReceive(DAGScheduler.scala:2791)\n\tat org.apache.spark.util.EventLoop$$anon$1.run(EventLoop.scala:49)\n\tat org.apache.spark.scheduler.DAGScheduler.runJob(DAGScheduler.scala:952)\n\tat org.apache.spark.SparkContext.runJob(SparkContext.scala:2228)\n\tat org.apache.spark.SparkContext.runJob(SparkContext.scala:2323)\n\tat org.apache.spark.rdd.RDD.$anonfun$aggregate$1(RDD.scala:1200)\n\tat org.apache.spark.rdd.RDDOperationScope$.withScope(RDDOperationScope.scala:151)\n\tat org.apache.spark.rdd.RDDOperationScope$.withScope(RDDOperationScope.scala:112)\n\tat org.apache.spark.rdd.RDD.withScope(RDD.scala:406)\n\tat org.apache.spark.rdd.RDD.aggregate(RDD.scala:1193)\n\tat org.apache.spark.mllib.stat.KernelDensity.estimate(KernelDensity.scala:91)\n\tat org.apache.spark.mllib.api.python.PythonMLLibAPI.estimateKernelDensity(PythonMLLibAPI.scala:1077)\n\tat sun.reflect.GeneratedMethodAccessor286.invoke(Unknown Source)\n\tat sun.reflect.DelegatingMethodAccessorImpl.invoke(DelegatingMethodAccessorImpl.java:43)\n\tat java.lang.reflect.Method.invoke(Method.java:498)\n\tat py4j.reflection.MethodInvoker.invoke(MethodInvoker.java:244)\n\tat py4j.reflection.ReflectionEngine.invoke(ReflectionEngine.java:357)\n\tat py4j.Gateway.invoke(Gateway.java:282)\n\tat py4j.commands.AbstractCommand.invokeMethod(AbstractCommand.java:132)\n\tat py4j.commands.CallCommand.execute(CallCommand.java:79)\n\tat py4j.ClientServerConnection.waitForCommands(ClientServerConnection.java:182)\n\tat py4j.ClientServerConnection.run(ClientServerConnection.java:106)\n\tat java.lang.Thread.run(Thread.java:748)\nCaused by: java.lang.ClassCastException\n",
     "output_type": "error",
     "traceback": [
      "\u001b[0;31m---------------------------------------------------------------------------\u001b[0m",
      "\u001b[0;31mPy4JJavaError\u001b[0m                             Traceback (most recent call last)",
      "\u001b[0;32m<ipython-input-100-4bbc043417bc>\u001b[0m in \u001b[0;36m<module>\u001b[0;34m\u001b[0m\n\u001b[1;32m     17\u001b[0m     \u001b[0mkd\u001b[0m\u001b[0;34m.\u001b[0m\u001b[0msetSample\u001b[0m\u001b[0;34m(\u001b[0m\u001b[0mdat_rdd\u001b[0m\u001b[0;34m)\u001b[0m\u001b[0;34m\u001b[0m\u001b[0;34m\u001b[0m\u001b[0m\n\u001b[1;32m     18\u001b[0m     \u001b[0;31m# Subset to the airline\u001b[0m\u001b[0;34m\u001b[0m\u001b[0;34m\u001b[0m\u001b[0;34m\u001b[0m\u001b[0m\n\u001b[0;32m---> 19\u001b[0;31m     \u001b[0mkdeEstimate\u001b[0m\u001b[0;34m=\u001b[0m\u001b[0mkd\u001b[0m\u001b[0;34m.\u001b[0m\u001b[0mestimate\u001b[0m\u001b[0;34m(\u001b[0m\u001b[0mestimationPoints\u001b[0m\u001b[0;34m)\u001b[0m\u001b[0;34m\u001b[0m\u001b[0;34m\u001b[0m\u001b[0m\n\u001b[0m\u001b[1;32m     20\u001b[0m     \u001b[0;31m# Draw the density plot\u001b[0m\u001b[0;34m\u001b[0m\u001b[0;34m\u001b[0m\u001b[0;34m\u001b[0m\u001b[0m\n\u001b[1;32m     21\u001b[0m     \u001b[0;32mtry\u001b[0m\u001b[0;34m:\u001b[0m\u001b[0;34m\u001b[0m\u001b[0;34m\u001b[0m\u001b[0m\n",
      "\u001b[0;32m~/.local/lib/python3.8/site-packages/pyspark/mllib/stat/KernelDensity.py\u001b[0m in \u001b[0;36mestimate\u001b[0;34m(self, points)\u001b[0m\n\u001b[1;32m     56\u001b[0m         \u001b[0;34m\"\"\"Estimate the probability density at points\"\"\"\u001b[0m\u001b[0;34m\u001b[0m\u001b[0;34m\u001b[0m\u001b[0m\n\u001b[1;32m     57\u001b[0m         \u001b[0mpoints\u001b[0m \u001b[0;34m=\u001b[0m \u001b[0mlist\u001b[0m\u001b[0;34m(\u001b[0m\u001b[0mpoints\u001b[0m\u001b[0;34m)\u001b[0m\u001b[0;34m\u001b[0m\u001b[0;34m\u001b[0m\u001b[0m\n\u001b[0;32m---> 58\u001b[0;31m         \u001b[0mdensities\u001b[0m \u001b[0;34m=\u001b[0m \u001b[0mcallMLlibFunc\u001b[0m\u001b[0;34m(\u001b[0m\u001b[0;34m\"estimateKernelDensity\"\u001b[0m\u001b[0;34m,\u001b[0m \u001b[0mself\u001b[0m\u001b[0;34m.\u001b[0m\u001b[0m_sample\u001b[0m\u001b[0;34m,\u001b[0m \u001b[0mself\u001b[0m\u001b[0;34m.\u001b[0m\u001b[0m_bandwidth\u001b[0m\u001b[0;34m,\u001b[0m \u001b[0mpoints\u001b[0m\u001b[0;34m)\u001b[0m\u001b[0;34m\u001b[0m\u001b[0;34m\u001b[0m\u001b[0m\n\u001b[0m\u001b[1;32m     59\u001b[0m         \u001b[0;32mreturn\u001b[0m \u001b[0mnp\u001b[0m\u001b[0;34m.\u001b[0m\u001b[0masarray\u001b[0m\u001b[0;34m(\u001b[0m\u001b[0mdensities\u001b[0m\u001b[0;34m)\u001b[0m\u001b[0;34m\u001b[0m\u001b[0;34m\u001b[0m\u001b[0m\n",
      "\u001b[0;32m~/.local/lib/python3.8/site-packages/pyspark/mllib/common.py\u001b[0m in \u001b[0;36mcallMLlibFunc\u001b[0;34m(name, *args)\u001b[0m\n\u001b[1;32m    137\u001b[0m     \u001b[0;32massert\u001b[0m \u001b[0msc\u001b[0m\u001b[0;34m.\u001b[0m\u001b[0m_jvm\u001b[0m \u001b[0;32mis\u001b[0m \u001b[0;32mnot\u001b[0m \u001b[0;32mNone\u001b[0m\u001b[0;34m\u001b[0m\u001b[0;34m\u001b[0m\u001b[0m\n\u001b[1;32m    138\u001b[0m     \u001b[0mapi\u001b[0m \u001b[0;34m=\u001b[0m \u001b[0mgetattr\u001b[0m\u001b[0;34m(\u001b[0m\u001b[0msc\u001b[0m\u001b[0;34m.\u001b[0m\u001b[0m_jvm\u001b[0m\u001b[0;34m.\u001b[0m\u001b[0mPythonMLLibAPI\u001b[0m\u001b[0;34m(\u001b[0m\u001b[0;34m)\u001b[0m\u001b[0;34m,\u001b[0m \u001b[0mname\u001b[0m\u001b[0;34m)\u001b[0m\u001b[0;34m\u001b[0m\u001b[0;34m\u001b[0m\u001b[0m\n\u001b[0;32m--> 139\u001b[0;31m     \u001b[0;32mreturn\u001b[0m \u001b[0mcallJavaFunc\u001b[0m\u001b[0;34m(\u001b[0m\u001b[0msc\u001b[0m\u001b[0;34m,\u001b[0m \u001b[0mapi\u001b[0m\u001b[0;34m,\u001b[0m \u001b[0;34m*\u001b[0m\u001b[0margs\u001b[0m\u001b[0;34m)\u001b[0m\u001b[0;34m\u001b[0m\u001b[0;34m\u001b[0m\u001b[0m\n\u001b[0m\u001b[1;32m    140\u001b[0m \u001b[0;34m\u001b[0m\u001b[0m\n\u001b[1;32m    141\u001b[0m \u001b[0;34m\u001b[0m\u001b[0m\n",
      "\u001b[0;32m~/.local/lib/python3.8/site-packages/pyspark/mllib/common.py\u001b[0m in \u001b[0;36mcallJavaFunc\u001b[0;34m(sc, func, *args)\u001b[0m\n\u001b[1;32m    129\u001b[0m     \u001b[0;34m\"\"\"Call Java Function\"\"\"\u001b[0m\u001b[0;34m\u001b[0m\u001b[0;34m\u001b[0m\u001b[0m\n\u001b[1;32m    130\u001b[0m     \u001b[0mjava_args\u001b[0m \u001b[0;34m=\u001b[0m \u001b[0;34m[\u001b[0m\u001b[0m_py2java\u001b[0m\u001b[0;34m(\u001b[0m\u001b[0msc\u001b[0m\u001b[0;34m,\u001b[0m \u001b[0ma\u001b[0m\u001b[0;34m)\u001b[0m \u001b[0;32mfor\u001b[0m \u001b[0ma\u001b[0m \u001b[0;32min\u001b[0m \u001b[0margs\u001b[0m\u001b[0;34m]\u001b[0m\u001b[0;34m\u001b[0m\u001b[0;34m\u001b[0m\u001b[0m\n\u001b[0;32m--> 131\u001b[0;31m     \u001b[0;32mreturn\u001b[0m \u001b[0m_java2py\u001b[0m\u001b[0;34m(\u001b[0m\u001b[0msc\u001b[0m\u001b[0;34m,\u001b[0m \u001b[0mfunc\u001b[0m\u001b[0;34m(\u001b[0m\u001b[0;34m*\u001b[0m\u001b[0mjava_args\u001b[0m\u001b[0;34m)\u001b[0m\u001b[0;34m)\u001b[0m\u001b[0;34m\u001b[0m\u001b[0;34m\u001b[0m\u001b[0m\n\u001b[0m\u001b[1;32m    132\u001b[0m \u001b[0;34m\u001b[0m\u001b[0m\n\u001b[1;32m    133\u001b[0m \u001b[0;34m\u001b[0m\u001b[0m\n",
      "\u001b[0;32m~/.local/lib/python3.8/site-packages/py4j/java_gateway.py\u001b[0m in \u001b[0;36m__call__\u001b[0;34m(self, *args)\u001b[0m\n\u001b[1;32m   1319\u001b[0m \u001b[0;34m\u001b[0m\u001b[0m\n\u001b[1;32m   1320\u001b[0m         \u001b[0manswer\u001b[0m \u001b[0;34m=\u001b[0m \u001b[0mself\u001b[0m\u001b[0;34m.\u001b[0m\u001b[0mgateway_client\u001b[0m\u001b[0;34m.\u001b[0m\u001b[0msend_command\u001b[0m\u001b[0;34m(\u001b[0m\u001b[0mcommand\u001b[0m\u001b[0;34m)\u001b[0m\u001b[0;34m\u001b[0m\u001b[0;34m\u001b[0m\u001b[0m\n\u001b[0;32m-> 1321\u001b[0;31m         return_value = get_return_value(\n\u001b[0m\u001b[1;32m   1322\u001b[0m             answer, self.gateway_client, self.target_id, self.name)\n\u001b[1;32m   1323\u001b[0m \u001b[0;34m\u001b[0m\u001b[0m\n",
      "\u001b[0;32m~/.local/lib/python3.8/site-packages/pyspark/sql/utils.py\u001b[0m in \u001b[0;36mdeco\u001b[0;34m(*a, **kw)\u001b[0m\n\u001b[1;32m    188\u001b[0m     \u001b[0;32mdef\u001b[0m \u001b[0mdeco\u001b[0m\u001b[0;34m(\u001b[0m\u001b[0;34m*\u001b[0m\u001b[0ma\u001b[0m\u001b[0;34m:\u001b[0m \u001b[0mAny\u001b[0m\u001b[0;34m,\u001b[0m \u001b[0;34m**\u001b[0m\u001b[0mkw\u001b[0m\u001b[0;34m:\u001b[0m \u001b[0mAny\u001b[0m\u001b[0;34m)\u001b[0m \u001b[0;34m->\u001b[0m \u001b[0mAny\u001b[0m\u001b[0;34m:\u001b[0m\u001b[0;34m\u001b[0m\u001b[0;34m\u001b[0m\u001b[0m\n\u001b[1;32m    189\u001b[0m         \u001b[0;32mtry\u001b[0m\u001b[0;34m:\u001b[0m\u001b[0;34m\u001b[0m\u001b[0;34m\u001b[0m\u001b[0m\n\u001b[0;32m--> 190\u001b[0;31m             \u001b[0;32mreturn\u001b[0m \u001b[0mf\u001b[0m\u001b[0;34m(\u001b[0m\u001b[0;34m*\u001b[0m\u001b[0ma\u001b[0m\u001b[0;34m,\u001b[0m \u001b[0;34m**\u001b[0m\u001b[0mkw\u001b[0m\u001b[0;34m)\u001b[0m\u001b[0;34m\u001b[0m\u001b[0;34m\u001b[0m\u001b[0m\n\u001b[0m\u001b[1;32m    191\u001b[0m         \u001b[0;32mexcept\u001b[0m \u001b[0mPy4JJavaError\u001b[0m \u001b[0;32mas\u001b[0m \u001b[0me\u001b[0m\u001b[0;34m:\u001b[0m\u001b[0;34m\u001b[0m\u001b[0;34m\u001b[0m\u001b[0m\n\u001b[1;32m    192\u001b[0m             \u001b[0mconverted\u001b[0m \u001b[0;34m=\u001b[0m \u001b[0mconvert_exception\u001b[0m\u001b[0;34m(\u001b[0m\u001b[0me\u001b[0m\u001b[0;34m.\u001b[0m\u001b[0mjava_exception\u001b[0m\u001b[0;34m)\u001b[0m\u001b[0;34m\u001b[0m\u001b[0;34m\u001b[0m\u001b[0m\n",
      "\u001b[0;32m~/.local/lib/python3.8/site-packages/py4j/protocol.py\u001b[0m in \u001b[0;36mget_return_value\u001b[0;34m(answer, gateway_client, target_id, name)\u001b[0m\n\u001b[1;32m    324\u001b[0m             \u001b[0mvalue\u001b[0m \u001b[0;34m=\u001b[0m \u001b[0mOUTPUT_CONVERTER\u001b[0m\u001b[0;34m[\u001b[0m\u001b[0mtype\u001b[0m\u001b[0;34m]\u001b[0m\u001b[0;34m(\u001b[0m\u001b[0manswer\u001b[0m\u001b[0;34m[\u001b[0m\u001b[0;36m2\u001b[0m\u001b[0;34m:\u001b[0m\u001b[0;34m]\u001b[0m\u001b[0;34m,\u001b[0m \u001b[0mgateway_client\u001b[0m\u001b[0;34m)\u001b[0m\u001b[0;34m\u001b[0m\u001b[0;34m\u001b[0m\u001b[0m\n\u001b[1;32m    325\u001b[0m             \u001b[0;32mif\u001b[0m \u001b[0manswer\u001b[0m\u001b[0;34m[\u001b[0m\u001b[0;36m1\u001b[0m\u001b[0;34m]\u001b[0m \u001b[0;34m==\u001b[0m \u001b[0mREFERENCE_TYPE\u001b[0m\u001b[0;34m:\u001b[0m\u001b[0;34m\u001b[0m\u001b[0;34m\u001b[0m\u001b[0m\n\u001b[0;32m--> 326\u001b[0;31m                 raise Py4JJavaError(\n\u001b[0m\u001b[1;32m    327\u001b[0m                     \u001b[0;34m\"An error occurred while calling {0}{1}{2}.\\n\"\u001b[0m\u001b[0;34m.\u001b[0m\u001b[0;34m\u001b[0m\u001b[0;34m\u001b[0m\u001b[0m\n\u001b[1;32m    328\u001b[0m                     format(target_id, \".\", name), value)\n",
      "\u001b[0;31mPy4JJavaError\u001b[0m: An error occurred while calling o3266.estimateKernelDensity.\n: org.apache.spark.SparkException: Job aborted due to stage failure: Task 0 in stage 401.0 failed 1 times, most recent failure: Lost task 0.0 in stage 401.0 (TID 1756) (mungai-local executor driver): java.lang.ClassCastException\n\nDriver stacktrace:\n\tat org.apache.spark.scheduler.DAGScheduler.failJobAndIndependentStages(DAGScheduler.scala:2672)\n\tat org.apache.spark.scheduler.DAGScheduler.$anonfun$abortStage$2(DAGScheduler.scala:2608)\n\tat org.apache.spark.scheduler.DAGScheduler.$anonfun$abortStage$2$adapted(DAGScheduler.scala:2607)\n\tat scala.collection.mutable.ResizableArray.foreach(ResizableArray.scala:62)\n\tat scala.collection.mutable.ResizableArray.foreach$(ResizableArray.scala:55)\n\tat scala.collection.mutable.ArrayBuffer.foreach(ArrayBuffer.scala:49)\n\tat org.apache.spark.scheduler.DAGScheduler.abortStage(DAGScheduler.scala:2607)\n\tat org.apache.spark.scheduler.DAGScheduler.$anonfun$handleTaskSetFailed$1(DAGScheduler.scala:1182)\n\tat org.apache.spark.scheduler.DAGScheduler.$anonfun$handleTaskSetFailed$1$adapted(DAGScheduler.scala:1182)\n\tat scala.Option.foreach(Option.scala:407)\n\tat org.apache.spark.scheduler.DAGScheduler.handleTaskSetFailed(DAGScheduler.scala:1182)\n\tat org.apache.spark.scheduler.DAGSchedulerEventProcessLoop.doOnReceive(DAGScheduler.scala:2860)\n\tat org.apache.spark.scheduler.DAGSchedulerEventProcessLoop.onReceive(DAGScheduler.scala:2802)\n\tat org.apache.spark.scheduler.DAGSchedulerEventProcessLoop.onReceive(DAGScheduler.scala:2791)\n\tat org.apache.spark.util.EventLoop$$anon$1.run(EventLoop.scala:49)\n\tat org.apache.spark.scheduler.DAGScheduler.runJob(DAGScheduler.scala:952)\n\tat org.apache.spark.SparkContext.runJob(SparkContext.scala:2228)\n\tat org.apache.spark.SparkContext.runJob(SparkContext.scala:2323)\n\tat org.apache.spark.rdd.RDD.$anonfun$aggregate$1(RDD.scala:1200)\n\tat org.apache.spark.rdd.RDDOperationScope$.withScope(RDDOperationScope.scala:151)\n\tat org.apache.spark.rdd.RDDOperationScope$.withScope(RDDOperationScope.scala:112)\n\tat org.apache.spark.rdd.RDD.withScope(RDD.scala:406)\n\tat org.apache.spark.rdd.RDD.aggregate(RDD.scala:1193)\n\tat org.apache.spark.mllib.stat.KernelDensity.estimate(KernelDensity.scala:91)\n\tat org.apache.spark.mllib.api.python.PythonMLLibAPI.estimateKernelDensity(PythonMLLibAPI.scala:1077)\n\tat sun.reflect.GeneratedMethodAccessor286.invoke(Unknown Source)\n\tat sun.reflect.DelegatingMethodAccessorImpl.invoke(DelegatingMethodAccessorImpl.java:43)\n\tat java.lang.reflect.Method.invoke(Method.java:498)\n\tat py4j.reflection.MethodInvoker.invoke(MethodInvoker.java:244)\n\tat py4j.reflection.ReflectionEngine.invoke(ReflectionEngine.java:357)\n\tat py4j.Gateway.invoke(Gateway.java:282)\n\tat py4j.commands.AbstractCommand.invokeMethod(AbstractCommand.java:132)\n\tat py4j.commands.CallCommand.execute(CallCommand.java:79)\n\tat py4j.ClientServerConnection.waitForCommands(ClientServerConnection.java:182)\n\tat py4j.ClientServerConnection.run(ClientServerConnection.java:106)\n\tat java.lang.Thread.run(Thread.java:748)\nCaused by: java.lang.ClassCastException\n"
     ]
    },
    {
     "data": {
      "image/png": "[encoded data removed]",
      "text/plain": [
       "<Figure size 360x360 with 1 Axes>"
      ]
     },
     "metadata": {
      "needs_background": "light"
     },
     "output_type": "display_data"
    }
   ],
   "source": [
    "from pyspark.mllib.stat import KernelDensity\n",
    "import seaborn as sns\n",
    "\n",
    "features=['dur','sbytes','dbytes','sttl','dttl','sloss','dloss','Sload','Dload']\n",
    "\n",
    "# Estimation at various points between minimum and maximum\n",
    "estimationPoints=[0.0,5.0,10.0,30.0,50.0,100.0,300.0,500.0,1000.0, 2000.0, 3000.0, 4000.0, 5000.0, 6000.0, 7000.0, 8000.0,9000.0, 1000000.0]\n",
    "kd = KernelDensity()\n",
    "dat_rdd = rdd.select(features[0]).rdd.map(lambda x: x[0])\n",
    "kd.setSample(dat_rdd)\n",
    "print(\"KDE({})={}\".format(features[0],durEstimate))\n",
    "\n",
    "# Iterate through the five airlines\n",
    "for f in features:\n",
    "    dat_rdd = rdd.select(f).rdd.map(lambda x: x[0])\n",
    "    kd = KernelDensity()\n",
    "    kd.setSample(dat_rdd)\n",
    "    # Subset to the airline\n",
    "    kdeEstimate=kd.estimate(estimationPoints)\n",
    "    # Draw the density plot\n",
    "    try:\n",
    "        sns.displot(kdeEstimate,kde = True,\n",
    "                     label = f)\n",
    "    except:\n",
    "        print(\"Failed\")\n",
    "    \n",
    "# Plot formatting\n",
    "plt.legend(prop={'size': 16}, title = 'Features')\n",
    "plt.title('Density Plot with Various fields')\n",
    "plt.xlabel('Variation')\n",
    "plt.ylabel('Density')\n"
   ]
  },
  {
   "cell_type": "code",
   "execution_count": 89,
   "metadata": {},
   "outputs": [
    {
     "data": {
      "image/png": "[encoded data removed]",
      "text/plain": [
       "<Figure size 576x648 with 1 Axes>"
      ]
     },
     "metadata": {
      "needs_background": "light"
     },
     "output_type": "display_data"
    }
   ],
   "source": [
    "import pandas as pd\n",
    "from matplotlib import pyplot as plt\n",
    "features=['dur','sbytes','dbytes','sttl','dttl','sloss','dloss','Sload','Dload',\"swin\",\"dwin\",\"stcpb\",\"dtcpb\",\"smeansz\",\"dmeansz\",\"trans_depth\",\"res_bdy_len\"]\n",
    "df = rdd.select(features).limit(20000).toPandas()\n",
    "ax=df.plot.kde(bw_method='silverman',figsize=(8,9)) \n",
    "\n"
   ]
  },
  {
   "cell_type": "code",
   "execution_count": 57,
   "metadata": {},
   "outputs": [
    {
     "name": "stdout",
     "output_type": "stream",
     "text": [
      "Row(pValue=8.381000893287194e-09, statistic=0.994106872441173)\n"
     ]
    }
   ],
   "source": [
    "from pyspark.ml.stat import KolmogorovSmirnovTest\n",
    "ksResult = KolmogorovSmirnovTest.test(rdd, 'sttl', 'norm', 0.05, 1.0).first()\n",
    "print(ksResult)\n",
    "print(\"P-VALUE={}\".format(ksResult.pValue))\n",
    "print(\"Statisitcs={}\".format(ksResult.statistics))"
   ]
  },
  {
   "cell_type": "code",
   "execution_count": 100,
   "metadata": {},
   "outputs": [
    {
     "name": "stdout",
     "output_type": "stream",
     "text": [
      "+-----+-------+----+------+-----+--------+------+---+----+------+-----+----+-----+----+\n",
      "|label|      -|dhcp|   dns|  ftp|ftp-data|  http|irc|pop3|radius| smtp|snmp|  ssh| ssl|\n",
      "+-----+-------+----+------+-----+--------+------+---+----+------+-----+----+-----+----+\n",
      "|    1|  79877| 172|210631| 3015|    1890| 18847| 30|1529|    30| 4989| 112|   19| 142|\n",
      "|    0|1166211|null|571037|46075|  123893|187426|  1|   4|    10|76656|   1|47141|null|\n",
      "+-----+-------+----+------+-----+--------+------+---+----+------+-----+----+-----+----+\n",
      "\n",
      "None\n",
      "2\n",
      "===============service===================\n",
      "Chi squared test summary:\n",
      "method: pearson\n",
      "degrees of freedom = 11 \n",
      "statistic = NaN \n",
      "pValue = NaN \n",
      "No presumption against null hypothesis: the occurrence of the outcomes is statistically independent..\n",
      "+-----+----+----+---------+----+-----+----+-----+-----+-------+----+----------+----+----+-----+-----------+----+----+----+-----+----+----+----+----+----+-----+-----+-----+-------+----+----+----+----+----+----+------+----+----+----+----+---------+----+----+----+----+----+----+------+----+----+----+-----+----+----+---------+-------+---------+----------+--------+----+----+------+-------+---------+----+----+------+------+---------+-------+----+----+------+----+----+----+------+----------+----+----+----+----+----+----+-------+----+----+----+----+----+----+----+----+----+---------+-------+--------+----+----+----+-----------+----+----+----+----+----+----------+----+----+----+----+------+-----+----+-------+----+----+-------+-------+----+------+----+-----+----+-----+----+----+----+--------+------+----+----+-------+----+----+\n",
      "|label| 3pc| a/n|aes-sp3-d| any|argus|aris|  arp|ax.25|bbn-rcc| bna|br-sat-mon| cbt|cftp|chaos|compaq-peer|cphb|cpnx|crtp|crudp| dcn| ddp| ddx| dgp| egp|eigrp|emcon|encap|etherip|  fc|fire| ggp|gmtp| gre| hmp|i-nlsp|iatp|  ib|icmp|idpr|idpr-cmtp|idrp|ifmp|igmp| igp|  il|  ip|ipcomp|ipcv|ipip|iplt|ipnip|ippc|ipv6|ipv6-frag|ipv6-no|ipv6-opts|ipv6-route|ipx-n-ip|irtp|isis|iso-ip|iso-tp4|kryptolan|l2tp|larp|leaf-1|leaf-2|merit-inp|mfe-nsp|mhrp|micp|mobile| mtp| mux|narp|netblt|nsfnet-igp| nvp|ospf| pgm| pim|pipe|pnni|pri-enc| prm| ptp| pup| pvp| qnx| rdp|rsvp| rtp| rvd|sat-expak|sat-mon|sccopmce|scps|sctp|sdrp|secure-vmtp| sep|skip|  sm| smp| snp|sprite-rpc| sps| srp| st2| stp|sun-nd|swipe| tcf|    tcp|tlsp|tp++|trunk-1|trunk-2| ttp|   udp| udt| unas| uti|vines|visa|vmtp|vrrp|wb-expak|wb-mon| wsn|xnet|xns-idp| xtp|zero|\n",
      "+-----+----+----+---------+----+-----+----+-----+-----+-------+----+----------+----+----+-----+-----------+----+----+----+-----+----+----+----+----+----+-----+-----+-----+-------+----+----+----+----+----+----+------+----+----+----+----+---------+----+----+----+----+----+----+------+----+----+----+-----+----+----+---------+-------+---------+----------+--------+----+----+------+-------+---------+----+----+------+------+---------+-------+----+----+------+----+----+----+------+----------+----+----+----+----+----+----+-------+----+----+----+----+----+----+----+----+----+---------+-------+--------+----+----+----+-----------+----+----+----+----+----+----------+----+----+----+----+------+-----+----+-------+----+----+-------+-------+----+------+----+-----+----+-----+----+----+----+--------+------+----+----+-------+----+----+\n",
      "|    1| 137| 137|      137| 411|  137| 137| null|  137|    137| 137|       137| 137| 137|  137|        137| 137| 137| 137|  137| 137| 137| 137| 137| 137|  137|  137|  137|    137| 137| 137| 137| 137| 324| 137|   137| 137| 137|null| 137|      137| 137| 137|null| 137| 137| 137|   137| 137| 137| 137|  137| 137| 272|      137|    137|      137|       137|     137| 137| 137|   137|    137|      137| 137| 137|   137|   137|      137|    137| 137| 137|   262| 137| 137| 137|   137|       137| 137|3278| 137| 262| 137| 137|    137| 137| 137| 137| 137| 137| 137| 274|null| 137|      137|    137|     137| 137|1525| 137|        137| 260| 137| 137| 137| 137|       137| 137| 137| 137| 137|   262|  262| 137|  58184| 137| 137|    137|    137| 137|223750|null|16202| 137|  137| 137| 137| 137|     137|   137| 137| 137|    137| 137| 137|\n",
      "|    0|null|null|     null|null| null|null|10064| null|   null|null|      null|null|null| null|       null|null|null|null| null|null|null|null|null|null| null| null| null|   null|null|null|null|null|null|null|  null|null|null| 218|null|     null|null|null|  64|null|null|null|  null|null|null|null| null|null|null|     null|   null|     null|      null|    null|null|null|  null|   null|     null|null|null|  null|  null|     null|   null|null|null|  null|null|null|null|  null|      null|null|4520|null|null|null|null|   null|null|null|null|null|null|null|null|   7|null|     null|   null|    null|null|null|null|       null|null|null|null|null|null|      null|null|null|null|null|  null| null|null|1436889|null|null|   null|   null|null|766685|   8| null|null| null|null|null|null|    null|  null|null|null|   null|null|null|\n",
      "+-----+----+----+---------+----+-----+----+-----+-----+-------+----+----------+----+----+-----+-----------+----+----+----+-----+----+----+----+----+----+-----+-----+-----+-------+----+----+----+----+----+----+------+----+----+----+----+---------+----+----+----+----+----+----+------+----+----+----+-----+----+----+---------+-------+---------+----------+--------+----+----+------+-------+---------+----+----+------+------+---------+-------+----+----+------+----+----+----+------+----------+----+----+----+----+----+----+-------+----+----+----+----+----+----+----+----+----+---------+-------+--------+----+----+----+-----------+----+----+----+----+----+----------+----+----+----+----+------+-----+----+-------+----+----+-------+-------+----+------+----+-----+----+-----+----+----+----+--------+------+----+----+-------+----+----+\n",
      "\n",
      "None\n",
      "2\n",
      "===============proto===================\n",
      "Chi squared test summary:\n",
      "method: pearson\n",
      "degrees of freedom = 132 \n",
      "statistic = NaN \n",
      "pValue = NaN \n",
      "No presumption against null hypothesis: the occurrence of the outcomes is statistically independent..\n"
     ]
    }
   ],
   "source": [
    "from pyspark.ml.stat import ChiSquareTest\n",
    "from pyspark.mllib.stat import Statistics\n",
    "from pyspark.mllib import linalg as ln\n",
    "features=[\"service\",\"proto\"]\n",
    "for f in features:\n",
    "    rdd_column=(rdd.groupby(\"label\").pivot(f).count())\n",
    "    print(rdd_column.show(5))\n",
    "    rdd_data=(rdd_column.rdd.map(lambda row:(row[2:])).flatMap(lambda x: x or 0.0).collect())\n",
    "    len_data=rdd_column.count()\n",
    "    print(len_data)\n",
    "    ccol = len(rdd_column.columns)\n",
    "    dens_mtx=ln.DenseMatrix(len_data,ccol-2,rdd_data,True)\n",
    "    chiResult=Statistics.chiSqTest(dens_mtx)\n",
    "    print(\"==============={}===================\".format(f))\n",
    "    print(chiResult)\n",
    "#chiResult=ChiSquareTest.test(rdd,'sttl','label',True)\n",
    "#print(chiResult)"
   ]
  },
  {
   "cell_type": "code",
   "execution_count": 5,
   "metadata": {},
   "outputs": [
    {
     "name": "stdout",
     "output_type": "stream",
     "text": [
      "==============F1=======\n"
     ]
    },
    {
     "ename": "TypeError",
     "evalue": "Parameter 'n' (number of rows) must be an int",
     "output_type": "error",
     "traceback": [
      "\u001b[0;31m---------------------------------------------------------------------------\u001b[0m",
      "\u001b[0;31mTypeError\u001b[0m                                 Traceback (most recent call last)",
      "\u001b[0;32m<ipython-input-5-b9b40516b89d>\u001b[0m in \u001b[0;36m<module>\u001b[0;34m\u001b[0m\n\u001b[1;32m     11\u001b[0m \u001b[0mcorrelations\u001b[0m\u001b[0;34m=\u001b[0m\u001b[0mspark\u001b[0m\u001b[0;34m.\u001b[0m\u001b[0mcreateDataFrame\u001b[0m\u001b[0;34m(\u001b[0m\u001b[0mcorr\u001b[0m\u001b[0;34m,\u001b[0m\u001b[0;34m[\u001b[0m\u001b[0;34m'Column'\u001b[0m\u001b[0;34m]\u001b[0m\u001b[0;34m+\u001b[0m\u001b[0mfeatures\u001b[0m\u001b[0;34m)\u001b[0m\u001b[0;34m\u001b[0m\u001b[0;34m\u001b[0m\u001b[0m\n\u001b[1;32m     12\u001b[0m \u001b[0mprint\u001b[0m\u001b[0;34m(\u001b[0m\u001b[0;34m\"==============F1=======\"\u001b[0m\u001b[0;34m)\u001b[0m\u001b[0;34m\u001b[0m\u001b[0;34m\u001b[0m\u001b[0m\n\u001b[0;32m---> 13\u001b[0;31m \u001b[0mcorrelations\u001b[0m\u001b[0;34m.\u001b[0m\u001b[0mshow\u001b[0m\u001b[0;34m(\u001b[0m\u001b[0mfeatures1\u001b[0m\u001b[0;34m)\u001b[0m\u001b[0;34m\u001b[0m\u001b[0;34m\u001b[0m\u001b[0m\n\u001b[0m\u001b[1;32m     14\u001b[0m \u001b[0;34m\u001b[0m\u001b[0m\n\u001b[1;32m     15\u001b[0m \u001b[0mprint\u001b[0m\u001b[0;34m(\u001b[0m\u001b[0;34m\"==============F2=======\"\u001b[0m\u001b[0;34m)\u001b[0m\u001b[0;34m\u001b[0m\u001b[0;34m\u001b[0m\u001b[0m\n",
      "\u001b[0;32m~/.local/lib/python3.8/site-packages/pyspark/sql/dataframe.py\u001b[0m in \u001b[0;36mshow\u001b[0;34m(self, n, truncate, vertical)\u001b[0m\n\u001b[1;32m    598\u001b[0m \u001b[0;34m\u001b[0m\u001b[0m\n\u001b[1;32m    599\u001b[0m         \u001b[0;32mif\u001b[0m \u001b[0;32mnot\u001b[0m \u001b[0misinstance\u001b[0m\u001b[0;34m(\u001b[0m\u001b[0mn\u001b[0m\u001b[0;34m,\u001b[0m \u001b[0mint\u001b[0m\u001b[0;34m)\u001b[0m \u001b[0;32mor\u001b[0m \u001b[0misinstance\u001b[0m\u001b[0;34m(\u001b[0m\u001b[0mn\u001b[0m\u001b[0;34m,\u001b[0m \u001b[0mbool\u001b[0m\u001b[0;34m)\u001b[0m\u001b[0;34m:\u001b[0m\u001b[0;34m\u001b[0m\u001b[0;34m\u001b[0m\u001b[0m\n\u001b[0;32m--> 600\u001b[0;31m             \u001b[0;32mraise\u001b[0m \u001b[0mTypeError\u001b[0m\u001b[0;34m(\u001b[0m\u001b[0;34m\"Parameter 'n' (number of rows) must be an int\"\u001b[0m\u001b[0;34m)\u001b[0m\u001b[0;34m\u001b[0m\u001b[0;34m\u001b[0m\u001b[0m\n\u001b[0m\u001b[1;32m    601\u001b[0m \u001b[0;34m\u001b[0m\u001b[0m\n\u001b[1;32m    602\u001b[0m         \u001b[0;32mif\u001b[0m \u001b[0;32mnot\u001b[0m \u001b[0misinstance\u001b[0m\u001b[0;34m(\u001b[0m\u001b[0mvertical\u001b[0m\u001b[0;34m,\u001b[0m \u001b[0mbool\u001b[0m\u001b[0;34m)\u001b[0m\u001b[0;34m:\u001b[0m\u001b[0;34m\u001b[0m\u001b[0;34m\u001b[0m\u001b[0m\n",
      "\u001b[0;31mTypeError\u001b[0m: Parameter 'n' (number of rows) must be an int"
     ]
    }
   ],
   "source": [
    "features1=['dur','sbytes','dbytes','sttl','dttl','sloss','dloss','Sload','Dload',\"swin\",\"dwin\",\"stcpb\",\"dtcpb\",]\n",
    "features2=[\"smeansz\",\"dmeansz\",\"trans_depth\",\"res_bdy_len\",\"Sjit\",\"Djit\",\"Sintpkt\",\"Dintpkt\",\"tcprtt\",\"synack\",\"ackdat\"]\n",
    "corr=[]\n",
    "features=features1+features2\n",
    "n_features=len(features)\n",
    "for i in range(0,n_features):\n",
    "    tmp=[None]*i\n",
    "    for j in range(i,n_features):\n",
    "       tmp.append(rdd.corr(features[i],features[j]))\n",
    "    corr.append([features[i]]+tmp)"
   ]
  },
  {
   "cell_type": "code",
   "execution_count": 29,
   "metadata": {},
   "outputs": [
    {
     "name": "stdout",
     "output_type": "stream",
     "text": [
      "==============F1=======\n",
      "+-------------+----+-------------------+-------------------+--------------------+--------------------+--------------------+--------------------+--------------------+\n",
      "|       Column| dur|             sbytes|             dbytes|                sttl|                dttl|               sloss|               dloss|               Sload|\n",
      "+-------------+----+-------------------+-------------------+--------------------+--------------------+--------------------+--------------------+--------------------+\n",
      "|        [dur]| 1.0|0.03326868976487904|0.08696993591009966|-0.00365315973738...|0.010704417326788045| 0.04149207321908868| 0.08771179946821238|-0.01471325907848...|\n",
      "|     [sbytes]|null|                1.0|0.04702553600345173|-0.00892461338882...| 0.06641966377471746|  0.9534935536274581| 0.05118081700611087|-0.02098714202211...|\n",
      "|     [dbytes]|null|               null|                1.0|-0.09418031873790116|0.009103726537922293| 0.11553012016015303|  0.9913421224069423|-0.06997698690924357|\n",
      "|       [sttl]|null|               null|               null|                 1.0| 0.11399364552324064|-0.06943521428843524|-0.11865570490150579|   0.280094087173413|\n",
      "|       [dttl]|null|               null|               null|                null|                 1.0| 0.07667002581233406| 0.01389881099311966|-0.21916378465189842|\n",
      "|      [sloss]|null|               null|               null|                null|                null|                 1.0| 0.15332137707579913|-0.06891590729977391|\n",
      "|      [dloss]|null|               null|               null|                null|                null|                null|                 1.0|-0.08883198247608219|\n",
      "|      [Sload]|null|               null|               null|                null|                null|                null|                null|                 1.0|\n",
      "|      [Dload]|null|               null|               null|                null|                null|                null|                null|                null|\n",
      "|       [swin]|null|               null|               null|                null|                null|                null|                null|                null|\n",
      "|       [dwin]|null|               null|               null|                null|                null|                null|                null|                null|\n",
      "|      [stcpb]|null|               null|               null|                null|                null|                null|                null|                null|\n",
      "|      [dtcpb]|null|               null|               null|                null|                null|                null|                null|                null|\n",
      "|    [smeansz]|null|               null|               null|                null|                null|                null|                null|                null|\n",
      "|    [dmeansz]|null|               null|               null|                null|                null|                null|                null|                null|\n",
      "|[trans_depth]|null|               null|               null|                null|                null|                null|                null|                null|\n",
      "|[res_bdy_len]|null|               null|               null|                null|                null|                null|                null|                null|\n",
      "|       [Sjit]|null|               null|               null|                null|                null|                null|                null|                null|\n",
      "|       [Djit]|null|               null|               null|                null|                null|                null|                null|                null|\n",
      "|    [Sintpkt]|null|               null|               null|                null|                null|                null|                null|                null|\n",
      "|    [Dintpkt]|null|               null|               null|                null|                null|                null|                null|                null|\n",
      "|     [tcprtt]|null|               null|               null|                null|                null|                null|                null|                null|\n",
      "|     [synack]|null|               null|               null|                null|                null|                null|                null|                null|\n",
      "|     [ackdat]|null|               null|               null|                null|                null|                null|                null|                null|\n",
      "+-------------+----+-------------------+-------------------+--------------------+--------------------+--------------------+--------------------+--------------------+\n",
      "\n",
      "==============F2=======\n",
      "+-------------+--------------------+--------------------+--------------------+--------------------+--------------------+--------------------+--------------------+--------------------+\n",
      "|       Column|               Dload|                swin|                dwin|               stcpb|               dtcpb|             smeansz|             dmeansz|         trans_depth|\n",
      "+-------------+--------------------+--------------------+--------------------+--------------------+--------------------+--------------------+--------------------+--------------------+\n",
      "|        [dur]|-0.02250584131943245|0.011120779587562447|0.010651676248739559|0.004792308317219993|0.004393329087514...|-0.00315829476963...|0.035819527874311176| 0.01654281816808502|\n",
      "|     [sbytes]|-0.00679054161706...| 0.05977416930165446|0.059939248842399706|0.025561627508323054|0.026067408695849042|  0.1879472068465967|0.016013857933137848|4.616791050294734...|\n",
      "|     [dbytes]| 0.08379675292430537|  0.1884345507808488| 0.18895981039281903| 0.08374558994435811|  0.0834872436545834|-0.09393473479030004|  0.5933525485007651|  0.1154826258195489|\n",
      "|       [sttl]|-0.24682466009233883|-0.35227484032866996|-0.35792457276645223| -0.1596487381038203|-0.15955224226047032|-0.05638732578842763| -0.3330164359021306|-0.06236576462128...|\n",
      "|       [dttl]|-0.02211791368522...|  0.3052480782269863| 0.30687493591857856| 0.13609505897480242| 0.13636585986033348| 0.09876564844999607| 0.04667476128628407| 0.11784942655227948|\n",
      "|      [sloss]| 0.04670991142444623| 0.19171991519715223|  0.1919750630935514| 0.08436623926023996| 0.08480893361288828| 0.15745605659962036| 0.09244747749459967|-0.02070131109382...|\n",
      "|      [dloss]| 0.10881847275221875| 0.24121186007080098|  0.2418816771602271| 0.10732098426959771| 0.10698460310344085|-0.09308115680636575|  0.6039468097183452| 0.10096209662695282|\n",
      "|      [Sload]|-0.17458382108424772| -0.3603187141544759| -0.3607255772433903|-0.16057334627214084|-0.16057856064866888| 0.05718784613235368|  -0.252434532760605| -0.0738058021569258|\n",
      "|      [Dload]|                 1.0|  0.4218136659151597|  0.4231691229297471| 0.18856916103507085| 0.18793774027976426|-0.19551201051378195|  0.5691685547410686| -0.1100764562607914|\n",
      "|       [swin]|                null|                 1.0|  0.9972069946331941| 0.44437445944969584|  0.4439545153502634|  0.1502046456759432|  0.5801287284702079| 0.19885001274220582|\n",
      "|       [dwin]|                null|                null|                 1.0| 0.44518198511529805|  0.4449973930167537|  0.1509305885101941|  0.5820649777481379| 0.19940236704576286|\n",
      "|      [stcpb]|                null|                null|                null|                 1.0| 0.33504402623504037| 0.06779226426204404| 0.25959555928333095| 0.08825143938479356|\n",
      "|      [dtcpb]|                null|                null|                null|                null|                 1.0| 0.06755156543733831|  0.2585564513747628| 0.08951479102140189|\n",
      "|    [smeansz]|                null|                null|                null|                null|                null|                 1.0|-0.22306178890339617|0.004663193200186408|\n",
      "|    [dmeansz]|                null|                null|                null|                null|                null|                null|                 1.0| 0.21173230460508025|\n",
      "|[trans_depth]|                null|                null|                null|                null|                null|                null|                null|                 1.0|\n",
      "|[res_bdy_len]|                null|                null|                null|                null|                null|                null|                null|                null|\n",
      "|       [Sjit]|                null|                null|                null|                null|                null|                null|                null|                null|\n",
      "|       [Djit]|                null|                null|                null|                null|                null|                null|                null|                null|\n",
      "|    [Sintpkt]|                null|                null|                null|                null|                null|                null|                null|                null|\n",
      "|    [Dintpkt]|                null|                null|                null|                null|                null|                null|                null|                null|\n",
      "|     [tcprtt]|                null|                null|                null|                null|                null|                null|                null|                null|\n",
      "|     [synack]|                null|                null|                null|                null|                null|                null|                null|                null|\n",
      "|     [ackdat]|                null|                null|                null|                null|                null|                null|                null|                null|\n",
      "+-------------+--------------------+--------------------+--------------------+--------------------+--------------------+--------------------+--------------------+--------------------+\n",
      "\n",
      "==============F3=======\n",
      "+-------------+--------------------+--------------------+--------------------+--------------------+--------------------+--------------------+--------------------+--------------------+\n",
      "|       Column|         res_bdy_len|                Sjit|                Djit|             Sintpkt|             Dintpkt|              tcprtt|              synack|              ackdat|\n",
      "+-------------+--------------------+--------------------+--------------------+--------------------+--------------------+--------------------+--------------------+--------------------+\n",
      "|        [dur]|0.043872100423248274| 0.03318525094457737| 0.04801862281988577| 0.07169186300113115| 0.09715133722081648|0.011355429873715624|0.010582376806764873|0.010426904183992275|\n",
      "|     [sbytes]| 0.02054511547303805|0.001392437606767578|0.001494024097651249|-0.00474429236509...|-0.00271132961888...| 0.02718425219360574|0.023593840508747178|0.026845686826393628|\n",
      "|     [dbytes]|  0.5606288263888164|0.028187464633601764| 0.12716528187032322|-0.01419479126789...|-0.01089043900184...|-0.01707889805655...|-0.01567452188698...|-0.01594412437989782|\n",
      "|       [sttl]|-0.03678497948785245| 0.04350436239568961|-0.07372732846668135|-0.04402526910751...|-0.02579461817773...| 0.21290273069158322|  0.1926980014700345|  0.2016789322704705|\n",
      "|       [dttl]|0.007926274009090644| 0.16046493468940284| 0.04673891467715258|-0.03390598184522466|3.286542022469391...|  0.5680163254961994|  0.5188020474791403|  0.5329908464774679|\n",
      "|      [sloss]|-0.01235050848229...|0.006262604733279611|0.022510939383622773|-0.01452802178154...|-0.00942422139176...|0.019758872849542974| 0.01750236412688393|0.019130269340405123|\n",
      "|      [dloss]|  0.5384728409552402| 0.02656222215778111|  0.1243646969901186|-0.01826309589468...|-0.01380359805205...|-0.01999070699389...|-0.01821948775371...|-0.01880045521573...|\n",
      "|      [Sload]|-0.02778348594205...|-0.02899849166351...|-0.06609544399474916|-0.02013960870216782|-0.01711190813745...|-0.04159254611443267|-0.03933982748148253|-0.03756466426266748|\n",
      "|      [Dload]|0.010481078191253887|-0.05074815907035481| -0.1087624954730106| -0.0399163502170991|-0.03125328565052525|-0.06795444422587504|-0.06025759913337418|-0.06572355927880028|\n",
      "|       [swin]| 0.07465090632332777| 0.07612903899736868| 0.16871500929505723|-0.07023165190821064|-0.04144953558852498| 0.11180465254624687|  0.1057984838970662| 0.10092388090818746|\n",
      "|       [dwin]| 0.07485829343529525| 0.07618149843540697|  0.1692123773779365|-0.07063335160135563|-0.04127895504626791| 0.11212667525817775| 0.10614309612625014| 0.10117136273150866|\n",
      "|      [stcpb]| 0.03327147701952555| 0.03520244505801369| 0.07355902788794756|-0.03139904614849936|-0.01806627416322...| 0.04963949411176743| 0.04667898857690102|0.045126873975710365|\n",
      "|      [dtcpb]|0.032007037990774076| 0.03483230382770839| 0.07927017455910834|-0.03138023511210953|-0.01816683784152...| 0.04868122965141841|0.045895801250777114| 0.04412800223144305|\n",
      "|    [smeansz]|-0.03931049807916777|0.004499196559654286|-0.02173959698480...|-0.03150572517502637|-0.02225532895236...|0.041552544734333716| 0.03806236192956564| 0.03887113145098063|\n",
      "|    [dmeansz]| 0.29856868964182365|0.032631122555918636| 0.22182025627351154|-0.04838452921801...|-0.03126711513720035|-0.05206008546576419| -0.0466728583617674|-0.04979934498638714|\n",
      "|[trans_depth]|  0.2338259606880655| 0.08654071183955739| 0.35295512328586953|-0.00977254358862...|-0.00291656045291...|0.038921646208239735| 0.03323366366948973|0.039029691636016564|\n",
      "|[res_bdy_len]|                 1.0|0.002764634446815574|0.019213151688077374|-0.00531943441084...|-0.00405285485880...|-0.00376553725317...|-0.00377540224087...|-0.00316930555060...|\n",
      "|       [Sjit]|                null|                 1.0|  0.3874157799160998| 0.05997244962777365| 0.17978835352382494| 0.12662849034750961| 0.11852702576506845| 0.11571191799543301|\n",
      "|       [Djit]|                null|                null|                 1.0|0.030762154632085086| 0.08186552832104955|0.012493405912045044|0.012015246957620353|0.011068534854306018|\n",
      "|    [Sintpkt]|                null|                null|                null|                 1.0|  0.5044952486871846|0.001640882730379...|0.001406413140183...|0.001639667334856...|\n",
      "|    [Dintpkt]|                null|                null|                null|                null|                 1.0| 0.01601379065042289| 0.01499403374518867|0.014628076926776295|\n",
      "|     [tcprtt]|                null|                null|                null|                null|                null|                 1.0|  0.9313053017231381|  0.9188987915687725|\n",
      "|     [synack]|                null|                null|                null|                null|                null|                null|                 1.0|  0.7120852405327434|\n",
      "|     [ackdat]|                null|                null|                null|                null|                null|                null|                null|                 1.0|\n",
      "+-------------+--------------------+--------------------+--------------------+--------------------+--------------------+--------------------+--------------------+--------------------+\n",
      "\n"
     ]
    }
   ],
   "source": [
    "from pyspark.sql.functions import when\n",
    "import pyspark.sql.functions as func\n",
    "\n",
    "correlations=spark.createDataFrame(corr,['Column']+features)\n",
    "print(\"==============F1=======\")\n",
    "correlations.select(['Column']+features[0:8]).show(n_features)\n",
    "\n",
    "print(\"==============F2=======\")\n",
    "correlations.select(['Column']+features[8:16]).show(n_features)\n",
    "\n",
    "print(\"==============F3=======\")\n",
    "correlations.select(['Column']+features[16:]).show(n_features)\n",
    "\n"
   ]
  },
  {
   "cell_type": "code",
   "execution_count": 28,
   "metadata": {},
   "outputs": [
    {
     "name": "stdout",
     "output_type": "stream",
     "text": [
      "==============ALL=======\n",
      "+-------------+----+------+------+------+-----+------+------+------+------+------+------+------+------+-------+-------+-----------+-----------+------+------+-------+-------+------+------+------+\n",
      "|       Column| dur|sbytes|dbytes|  sttl| dttl| sloss| dloss| Sload| Dload|  swin|  dwin| stcpb| dtcpb|smeansz|dmeansz|trans_depth|res_bdy_len|  Sjit|  Djit|Sintpkt|Dintpkt|tcprtt|synack|ackdat|\n",
      "+-------------+----+------+------+------+-----+------+------+------+------+------+------+------+------+-------+-------+-----------+-----------+------+------+-------+-------+------+------+------+\n",
      "|        [dur]| 1.0| 0.033| 0.087|-0.004|0.011| 0.041| 0.088|-0.015|-0.023| 0.011| 0.011| 0.005| 0.004| -0.003|  0.036|      0.017|      0.044| 0.033| 0.048|  0.072|  0.097| 0.011| 0.011|  0.01|\n",
      "|     [sbytes]|null|   1.0| 0.047|-0.009|0.066| 0.953| 0.051|-0.021|-0.007|  0.06|  0.06| 0.026| 0.026|  0.188|  0.016|        0.0|      0.021| 0.001| 0.001| -0.005| -0.003| 0.027| 0.024| 0.027|\n",
      "|     [dbytes]|null|  null|   1.0|-0.094|0.009| 0.116| 0.991| -0.07| 0.084| 0.188| 0.189| 0.084| 0.083| -0.094|  0.593|      0.115|      0.561| 0.028| 0.127| -0.014| -0.011|-0.017|-0.016|-0.016|\n",
      "|       [sttl]|null|  null|  null|   1.0|0.114|-0.069|-0.119|  0.28|-0.247|-0.352|-0.358| -0.16| -0.16| -0.056| -0.333|     -0.062|     -0.037| 0.044|-0.074| -0.044| -0.026| 0.213| 0.193| 0.202|\n",
      "|       [dttl]|null|  null|  null|  null|  1.0| 0.077| 0.014|-0.219|-0.022| 0.305| 0.307| 0.136| 0.136|  0.099|  0.047|      0.118|      0.008|  0.16| 0.047| -0.034|    0.0| 0.568| 0.519| 0.533|\n",
      "|      [sloss]|null|  null|  null|  null| null|   1.0| 0.153|-0.069| 0.047| 0.192| 0.192| 0.084| 0.085|  0.157|  0.092|     -0.021|     -0.012| 0.006| 0.023| -0.015| -0.009|  0.02| 0.018| 0.019|\n",
      "|      [dloss]|null|  null|  null|  null| null|  null|   1.0|-0.089| 0.109| 0.241| 0.242| 0.107| 0.107| -0.093|  0.604|      0.101|      0.538| 0.027| 0.124| -0.018| -0.014| -0.02|-0.018|-0.019|\n",
      "|      [Sload]|null|  null|  null|  null| null|  null|  null|   1.0|-0.175| -0.36|-0.361|-0.161|-0.161|  0.057| -0.252|     -0.074|     -0.028|-0.029|-0.066|  -0.02| -0.017|-0.042|-0.039|-0.038|\n",
      "|      [Dload]|null|  null|  null|  null| null|  null|  null|  null|   1.0| 0.422| 0.423| 0.189| 0.188| -0.196|  0.569|      -0.11|       0.01|-0.051|-0.109|  -0.04| -0.031|-0.068| -0.06|-0.066|\n",
      "|       [swin]|null|  null|  null|  null| null|  null|  null|  null|  null|   1.0| 0.997| 0.444| 0.444|   0.15|   0.58|      0.199|      0.075| 0.076| 0.169|  -0.07| -0.041| 0.112| 0.106| 0.101|\n",
      "|       [dwin]|null|  null|  null|  null| null|  null|  null|  null|  null|  null|   1.0| 0.445| 0.445|  0.151|  0.582|      0.199|      0.075| 0.076| 0.169| -0.071| -0.041| 0.112| 0.106| 0.101|\n",
      "|      [stcpb]|null|  null|  null|  null| null|  null|  null|  null|  null|  null|  null|   1.0| 0.335|  0.068|   0.26|      0.088|      0.033| 0.035| 0.074| -0.031| -0.018|  0.05| 0.047| 0.045|\n",
      "|      [dtcpb]|null|  null|  null|  null| null|  null|  null|  null|  null|  null|  null|  null|   1.0|  0.068|  0.259|       0.09|      0.032| 0.035| 0.079| -0.031| -0.018| 0.049| 0.046| 0.044|\n",
      "|    [smeansz]|null|  null|  null|  null| null|  null|  null|  null|  null|  null|  null|  null|  null|    1.0| -0.223|      0.005|     -0.039| 0.004|-0.022| -0.032| -0.022| 0.042| 0.038| 0.039|\n",
      "|    [dmeansz]|null|  null|  null|  null| null|  null|  null|  null|  null|  null|  null|  null|  null|   null|    1.0|      0.212|      0.299| 0.033| 0.222| -0.048| -0.031|-0.052|-0.047| -0.05|\n",
      "|[trans_depth]|null|  null|  null|  null| null|  null|  null|  null|  null|  null|  null|  null|  null|   null|   null|        1.0|      0.234| 0.087| 0.353|  -0.01| -0.003| 0.039| 0.033| 0.039|\n",
      "|[res_bdy_len]|null|  null|  null|  null| null|  null|  null|  null|  null|  null|  null|  null|  null|   null|   null|       null|        1.0| 0.003| 0.019| -0.005| -0.004|-0.004|-0.004|-0.003|\n",
      "|       [Sjit]|null|  null|  null|  null| null|  null|  null|  null|  null|  null|  null|  null|  null|   null|   null|       null|       null|   1.0| 0.387|   0.06|   0.18| 0.127| 0.119| 0.116|\n",
      "|       [Djit]|null|  null|  null|  null| null|  null|  null|  null|  null|  null|  null|  null|  null|   null|   null|       null|       null|  null|   1.0|  0.031|  0.082| 0.012| 0.012| 0.011|\n",
      "|    [Sintpkt]|null|  null|  null|  null| null|  null|  null|  null|  null|  null|  null|  null|  null|   null|   null|       null|       null|  null|  null|    1.0|  0.504| 0.002| 0.001| 0.002|\n",
      "|    [Dintpkt]|null|  null|  null|  null| null|  null|  null|  null|  null|  null|  null|  null|  null|   null|   null|       null|       null|  null|  null|   null|    1.0| 0.016| 0.015| 0.015|\n",
      "|     [tcprtt]|null|  null|  null|  null| null|  null|  null|  null|  null|  null|  null|  null|  null|   null|   null|       null|       null|  null|  null|   null|   null|   1.0| 0.931| 0.919|\n",
      "|     [synack]|null|  null|  null|  null| null|  null|  null|  null|  null|  null|  null|  null|  null|   null|   null|       null|       null|  null|  null|   null|   null|  null|   1.0| 0.712|\n",
      "|     [ackdat]|null|  null|  null|  null| null|  null|  null|  null|  null|  null|  null|  null|  null|   null|   null|       null|       null|  null|  null|   null|   null|  null|  null|   1.0|\n",
      "+-------------+----+------+------+------+-----+------+------+------+------+------+------+------+------+-------+-------+-----------+-----------+------+------+-------+-------+------+------+------+\n",
      "\n",
      "==============CATEGORIZED=======\n",
      "+-------------+---+------+------+----+----+-----+-----+-----+-----+----+----+-----+-----+-------+-------+-----------+-----------+----+----+-------+-------+------+------+------+\n",
      "|       Column|dur|sbytes|dbytes|sttl|dttl|sloss|dloss|Sload|Dload|swin|dwin|stcpb|dtcpb|smeansz|dmeansz|trans_depth|res_bdy_len|Sjit|Djit|Sintpkt|Dintpkt|tcprtt|synack|ackdat|\n",
      "+-------------+---+------+------+----+----+-----+-----+-----+-----+----+----+-----+-----+-------+-------+-----------+-----------+----+----+-------+-------+------+------+------+\n",
      "|        [dur]| PV|    PL|    PL|  NL|  PL|   PL|   PL|   NL|   NL|  PL|  PL|   PL|   PL|     NL|     PL|         PL|         PL|  PL|  PL|     PL|     PL|    PL|    PL|    PL|\n",
      "|     [sbytes]|  -|    PV|    PL|  NL|  PL|   PV|   PL|   NL|   NL|  PL|  PL|   PL|   PL|     PL|     PL|         NL|         PL|  PL|  PL|     NL|     NL|    PL|    PL|    PL|\n",
      "|     [dbytes]|  -|     -|    PV|  NL|  PL|   PL|   PV|   NL|   PL|  PL|  PL|   PL|   PL|     NL|     PH|         PL|         PH|  PL|  PL|     NL|     NL|    NL|    NL|    NL|\n",
      "|       [sttl]|  -|     -|     -|  PV|  PL|   NL|   NL|   PL|   NL|  NL|  NL|   NL|   NL|     NL|     NL|         NL|         NL|  PL|  NL|     NL|     NL|    PL|    PL|    PL|\n",
      "|       [dttl]|  -|     -|     -|   -|  PV|   PL|   PL|   NL|   NL|  PL|  PL|   PL|   PL|     PL|     PL|         PL|         PL|  PL|  PL|     NL|     NL|    PH|    PH|    PH|\n",
      "|      [sloss]|  -|     -|     -|   -|   -|   PV|   PL|   NL|   PL|  PL|  PL|   PL|   PL|     PL|     PL|         NL|         NL|  PL|  PL|     NL|     NL|    PL|    PL|    PL|\n",
      "|      [dloss]|  -|     -|     -|   -|   -|    -|   PV|   NL|   PL|  PL|  PL|   PL|   PL|     NL|     PH|         PL|         PH|  PL|  PL|     NL|     NL|    NL|    NL|    NL|\n",
      "|      [Sload]|  -|     -|     -|   -|   -|    -|    -|   PV|   NL|  NL|  NL|   NL|   NL|     PL|     NL|         NL|         NL|  NL|  NL|     NL|     NL|    NL|    NL|    NL|\n",
      "|      [Dload]|  -|     -|     -|   -|   -|    -|    -|    -|   PV|  PH|  PH|   PL|   PL|     NL|     PH|         NL|         PL|  NL|  NL|     NL|     NL|    NL|    NL|    NL|\n",
      "|       [swin]|  -|     -|     -|   -|   -|    -|    -|    -|    -|  PV|  PV|   PH|   PH|     PL|     PH|         PL|         PL|  PL|  PL|     NL|     NL|    PL|    PL|    PL|\n",
      "|       [dwin]|  -|     -|     -|   -|   -|    -|    -|    -|    -|   -|  PV|   PH|   PH|     PL|     PH|         PL|         PL|  PL|  PL|     NL|     NL|    PL|    PL|    PL|\n",
      "|      [stcpb]|  -|     -|     -|   -|   -|    -|    -|    -|    -|   -|   -|   PV|   PL|     PL|     PL|         PL|         PL|  PL|  PL|     NL|     NL|    PL|    PL|    PL|\n",
      "|      [dtcpb]|  -|     -|     -|   -|   -|    -|    -|    -|    -|   -|   -|    -|   PV|     PL|     PL|         PL|         PL|  PL|  PL|     NL|     NL|    PL|    PL|    PL|\n",
      "|    [smeansz]|  -|     -|     -|   -|   -|    -|    -|    -|    -|   -|   -|    -|    -|     PV|     NL|         PL|         NL|  PL|  NL|     NL|     NL|    PL|    PL|    PL|\n",
      "|    [dmeansz]|  -|     -|     -|   -|   -|    -|    -|    -|    -|   -|   -|    -|    -|      -|     PV|         PL|         PL|  PL|  PL|     NL|     NL|    NL|    NL|    NL|\n",
      "|[trans_depth]|  -|     -|     -|   -|   -|    -|    -|    -|    -|   -|   -|    -|    -|      -|      -|         PV|         PL|  PL|  PL|     NL|     NL|    PL|    PL|    PL|\n",
      "|[res_bdy_len]|  -|     -|     -|   -|   -|    -|    -|    -|    -|   -|   -|    -|    -|      -|      -|          -|         PV|  PL|  PL|     NL|     NL|    NL|    NL|    NL|\n",
      "|       [Sjit]|  -|     -|     -|   -|   -|    -|    -|    -|    -|   -|   -|    -|    -|      -|      -|          -|          -|  PV|  PL|     PL|     PL|    PL|    PL|    PL|\n",
      "|       [Djit]|  -|     -|     -|   -|   -|    -|    -|    -|    -|   -|   -|    -|    -|      -|      -|          -|          -|   -|  PV|     PL|     PL|    PL|    PL|    PL|\n",
      "|    [Sintpkt]|  -|     -|     -|   -|   -|    -|    -|    -|    -|   -|   -|    -|    -|      -|      -|          -|          -|   -|   -|     PV|     PH|    PL|    PL|    PL|\n",
      "|    [Dintpkt]|  -|     -|     -|   -|   -|    -|    -|    -|    -|   -|   -|    -|    -|      -|      -|          -|          -|   -|   -|      -|     PV|    PL|    PL|    PL|\n",
      "|     [tcprtt]|  -|     -|     -|   -|   -|    -|    -|    -|    -|   -|   -|    -|    -|      -|      -|          -|          -|   -|   -|      -|      -|    PV|    PV|    PV|\n",
      "|     [synack]|  -|     -|     -|   -|   -|    -|    -|    -|    -|   -|   -|    -|    -|      -|      -|          -|          -|   -|   -|      -|      -|     -|    PV|    PH|\n",
      "|     [ackdat]|  -|     -|     -|   -|   -|    -|    -|    -|    -|   -|   -|    -|    -|      -|      -|          -|          -|   -|   -|      -|      -|     -|     -|    PV|\n",
      "+-------------+---+------+------+----+----+-----+-----+-----+-----+----+----+-----+-----+-------+-------+-----------+-----------+----+----+-------+-------+------+------+------+\n",
      "\n"
     ]
    }
   ],
   "source": [
    "# Round of the values for easy comparison\n",
    "cdf=correlations\n",
    "for col in features:\n",
    "    cdf=cdf.withColumn(col,when(cdf[col]==None,0.00)\n",
    "                                        .otherwise(func.round(cdf[col], 3)))\n",
    "print(\"==============ALL=======\")\n",
    "cdf.select(['Column']+features).show(n_features)\n",
    "\n",
    "# Find Highly correlated fields\n",
    "for col in features:\n",
    "    cdf=cdf.withColumn(col,when(cdf[col]>0.8,'PV')\n",
    "                                         . when(cdf[col]>0.4,'PH')\n",
    "                                         .when(cdf[col]>0,'PL')\n",
    "                                         .when(cdf[col]>-0.4,'NL')\n",
    "                                         .when(cdf[col]>-0.5,'NH')\n",
    "                                         .when(cdf[col]>-1.0,'NV')\n",
    "                                        .otherwise(\"-\"))\n",
    "\n",
    "\n",
    "print(\"==============CATEGORIZED=======\")\n",
    "cdf.select(['Column']+features).show(n_features)\n"
   ]
  },
  {
   "cell_type": "code",
   "execution_count": 12,
   "metadata": {},
   "outputs": [
    {
     "name": "stdout",
     "output_type": "stream",
     "text": [
      "+-----------+-----+-----------+------+-----+-----+---+------+------+----+----+-----+-----+-------+-----+-----+-----+-----+----+----+-----+-----+-------+-------+-----------+-----------+----+----+-----+-----+--------+-------+------+------+------+---------------+------------+----------------+------------+----------+----------+----------+----------+----------+----------------+----------------+--------------+----------+-----+\n",
      "|      srcip|sport|      dstip|dsport|proto|state|dur|sbytes|dbytes|sttl|dttl|sloss|dloss|service|Sload|Dload|Spkts|Dpkts|swin|dwin|stcpb|dtcpb|smeansz|dmeansz|trans_depth|res_bdy_len|Sjit|Djit|Stime|Ltime| Sintpkt|Dintpkt|tcprtt|synack|ackdat|is_sm_ips_ports|ct_state_ttl|ct_flw_http_mthd|is_ftp_login|ct_ftp_cmd|ct_srv_src|ct_srv_dst|ct_dst_ltm|ct_src_ltm|ct_src_dport_ltm|ct_dst_sport_ltm|ct_dst_src_ltm|attack_cat|Label|\n",
      "+-----------+-----+-----------+------+-----+-----+---+------+------+----+----+-----+-----+-------+-----+-----+-----+-----+----+----+-----+-----+-------+-------+-----------+-----------+----+----+-----+-----+--------+-------+------+------+------+---------------+------------+----------------+------------+----------+----------+----------+----------+----------+----------------+----------------+--------------+----------+-----+\n",
      "|10.40.170.2|    0|10.40.170.2|     0|  arp|  INT|0.0|    46|     0|   0|   0|    0|    0|      -|  0.0|  0.0|    1|    0|   0|   0|    0|    0|     46|      0|          0|          0| 0.0| 0.0| null| null|     0.0|    0.0|   0.0|   0.0|   0.0|              1|           2|               0|           0|         0|         1|         1|         1|         1|               1|               1|             1|      null|    0|\n",
      "|10.40.170.2|    0|10.40.170.2|     0|  arp|  INT|0.0|    46|     0|   0|   0|    0|    0|      -|  0.0|  0.0|    1|    0|   0|   0|    0|    0|     46|      0|          0|          0| 0.0| 0.0| null| null|     0.0|    0.0|   0.0|   0.0|   0.0|              1|           2|               0|           0|         0|         1|         1|         1|         1|               1|               1|             1|      null|    0|\n",
      "|10.40.170.2|    0|10.40.170.2|     0|  arp|  INT|0.0|    46|     0|   0|   0|    0|    0|      -|  0.0|  0.0|    1|    0|   0|   0|    0|    0|     46|      0|          0|          0| 0.0| 0.0| null| null|     0.0|    0.0|   0.0|   0.0|   0.0|              1|           2|               0|           0|         0|         1|         1|         1|         1|               1|               1|             1|      null|    0|\n",
      "|10.40.170.2|    0|10.40.170.2|     0|  arp|  INT|0.0|    46|     0|   0|   0|    0|    0|      -|  0.0|  0.0|    1|    0|   0|   0|    0|    0|     46|      0|          0|          0| 0.0| 0.0| null| null|     0.0|    0.0|   0.0|   0.0|   0.0|              1|           2|               0|           0|         0|         1|         1|         1|         1|               1|               1|             1|      null|    0|\n",
      "|10.40.170.2|    0|10.40.170.2|     0|  arp|  INT|0.0|    46|     0|   0|   0|    0|    0|      -|  0.0|  0.0|    1|    0|   0|   0|    0|    0|     46|      0|          0|          0| 0.0| 0.0| null| null|     0.0|    0.0|   0.0|   0.0|   0.0|              1|           2|               0|           0|         0|         1|         1|         1|         1|               1|               1|             1|      null|    0|\n",
      "|10.40.170.2|    0|10.40.170.2|     0|  arp|  INT|0.0|    46|     0|   0|   0|    0|    0|      -|  0.0|  0.0|    1|    0|   0|   0|    0|    0|     46|      0|          0|          0| 0.0| 0.0| null| null|     0.0|    0.0|   0.0|   0.0|   0.0|              1|           2|               0|           0|         0|         1|         1|         1|         1|               1|               1|             1|      null|    0|\n",
      "|10.40.170.2|    0|10.40.170.2|     0|  arp|  INT|0.0|    46|     0|   0|   0|    0|    0|      -|  0.0|  0.0|    1|    0|   0|   0|    0|    0|     46|      0|          0|          0| 0.0| 0.0| null| null|     0.0|    0.0|   0.0|   0.0|   0.0|              1|           2|               0|           0|         0|         1|         1|         1|         1|               1|               1|             1|      null|    0|\n",
      "|10.40.170.2|    0|10.40.170.2|     0|  arp|  INT|0.0|    46|     0|   0|   0|    0|    0|      -|  0.0|  0.0|    1|    0|   0|   0|    0|    0|     46|      0|          0|          0| 0.0| 0.0| null| null|     0.0|    0.0|   0.0|   0.0|   0.0|              1|           2|               0|           0|         0|         1|         1|         1|         1|               1|               1|             1|      null|    0|\n",
      "|10.40.170.2|    0|10.40.170.2|     0|  arp|  INT|0.0|    46|     0|   0|   0|    0|    0|      -|  0.0|  0.0|    1|    0|   0|   0|    0|    0|     46|      0|          0|          0| 0.0| 0.0| null| null|     0.0|    0.0|   0.0|   0.0|   0.0|              1|           2|               0|           0|         0|         1|         1|         1|         1|               1|               1|             1|      null|    0|\n",
      "|10.40.170.2|    0|10.40.170.2|     0|  arp|  INT|0.0|    46|     0|   0|   0|    0|    0|      -|  0.0|  0.0|    1|    0|   0|   0|    0|    0|     46|      0|          0|          0| 0.0| 0.0| null| null|     0.0|    0.0|   0.0|   0.0|   0.0|              1|           2|               0|           0|         0|         1|         1|         1|         1|               1|               1|             1|      null|    0|\n",
      "|10.40.170.2|    0|10.40.170.2|     0|  arp|  INT|0.0|    46|     0|   0|   0|    0|    0|      -|  0.0|  0.0|    1|    0|   0|   0|    0|    0|     46|      0|          0|          0| 0.0| 0.0| null| null|     0.0|    0.0|   0.0|   0.0|   0.0|              1|           2|               0|           0|         0|         1|         1|         1|         1|               1|               1|             1|      null|    0|\n",
      "|10.40.170.2|    0|10.40.170.2|     0|  arp|  INT|0.0|    46|     0|   0|   0|    0|    0|      -|  0.0|  0.0|    1|    0|   0|   0|    0|    0|     46|      0|          0|          0| 0.0| 0.0| null| null|     0.0|    0.0|   0.0|   0.0|   0.0|              1|           2|               0|           0|         0|         1|         1|         1|         1|               1|               1|             1|      null|    0|\n",
      "|10.40.170.2|    0|10.40.170.2|     0|  arp|  INT|0.0|    46|     0|   0|   0|    0|    0|      -|  0.0|  0.0|    1|    0|   0|   0|    0|    0|     46|      0|          0|          0| 0.0| 0.0| null| null|     0.0|    0.0|   0.0|   0.0|   0.0|              1|           2|               0|           0|         0|         1|         1|         1|         1|               1|               1|             1|      null|    0|\n",
      "|10.40.170.2|    0|10.40.170.2|     0|  arp|  INT|0.0|    46|     0|   0|   0|    0|    0|      -|  0.0|  0.0|    1|    0|   0|   0|    0|    0|     46|      0|          0|          0| 0.0| 0.0| null| null|     0.0|    0.0|   0.0|   0.0|   0.0|              1|           2|               0|           0|         0|         1|         1|         1|         1|               1|               1|             1|      null|    0|\n",
      "|10.40.170.2|    0|10.40.170.2|     0|  arp|  INT|0.0|    46|     0|   0|   0|    0|    0|      -|  0.0|  0.0|    1|    0|   0|   0|    0|    0|     46|      0|          0|          0| 0.0| 0.0| null| null|     0.0|    0.0|   0.0|   0.0|   0.0|              1|           2|               0|           0|         0|         2|         2|         2|         2|               2|               2|             2|      null|    0|\n",
      "|10.40.170.2|    0|10.40.170.2|     0|  arp|  INT|0.0|    46|     0|   0|   0|    0|    0|      -|  0.0|  0.0|    1|    0|   0|   0|    0|    0|     46|      0|          0|          0| 0.0| 0.0| null| null|     0.0|    0.0|   0.0|   0.0|   0.0|              1|           2|               0|           0|         0|         2|         2|         2|         2|               2|               2|             2|      null|    0|\n",
      "|10.40.170.2|    0|10.40.170.2|     0|  arp|  INT|0.0|    46|     0|   0|   0|    0|    0|      -|  0.0|  0.0|    1|    0|   0|   0|    0|    0|     46|      0|          0|          0| 0.0| 0.0| null| null|     0.0|    0.0|   0.0|   0.0|   0.0|              1|           2|               0|           0|         0|         2|         2|         2|         2|               2|               2|             2|      null|    0|\n",
      "|10.40.170.2|    0|10.40.170.2|     0|  arp|  INT|0.0|    46|     0|   0|   0|    0|    0|      -|  0.0|  0.0|    1|    0|   0|   0|    0|    0|     46|      0|          0|          0| 0.0| 0.0| null| null|     0.0|    0.0|   0.0|   0.0|   0.0|              1|           2|               0|           0|         0|         2|         2|         2|         2|               2|               2|             2|      null|    0|\n",
      "|10.40.170.2|    0|10.40.170.2|     0|  arp|  INT|0.0|    46|     0|   0|   0|    0|    0|      -|  0.0|  0.0|    1|    0|   0|   0|    0|    0|     46|      0|          0|          0| 0.0| 0.0| null| null|     0.0|    0.0|   0.0|   0.0|   0.0|              1|           2|               0|           0|         0|         2|         2|         2|         2|               2|               2|             2|      null|    0|\n",
      "|10.40.170.2|    0|10.40.170.2|     0|  arp|  INT|0.0|    46|     0|   0|   0|    0|    0|      -|  0.0|  0.0|    1|    0|   0|   0|    0|    0|     46|      0|          0|          0| 0.0| 0.0| null| null|60000.04|    0.0|   0.0|   0.0|   0.0|              1|           2|               0|           0|         0|         2|         2|         2|         2|               2|               2|             2|      null|    0|\n",
      "+-----------+-----+-----------+------+-----+-----+---+------+------+----+----+-----+-----+-------+-----+-----+-----+-----+----+----+-----+-----+-------+-------+-----------+-----------+----+----+-----+-----+--------+-------+------+------+------+---------------+------------+----------------+------------+----------+----------+----------+----------+----------+----------------+----------------+--------------+----------+-----+\n",
      "only showing top 20 rows\n",
      "\n"
     ]
    }
   ],
   "source": [
    "from pyspark.ml import classification as cl\n",
    "from pyspark.ml import feature as feat\n",
    "from pyspark.sql.functions import when\n",
    "import pyspark.sql.functions as func\n",
    "\n",
    "# Merge multiple columns into single column\n",
    "assembler=feat.VectorAssembler(\n",
    "    inputCols=['dur','sbytes','dbytes','sttl','dttl','sloss','dloss','Sload','Dload',\"swin\",\"dwin\",\"stcpb\",\"dtcpb\",\"smeansz\",\"dmeansz\",\"trans_depth\",\"res_bdy_len\",\"Sjit\",\"Djit\",\"Sintpkt\",\"Dintpkt\",\"tcprtt\",\"synack\",\"ackdat\"],\n",
    "    outputCol='features',\n",
    "    handleInvalid='skip'\n",
    ")\n",
    "# Split into training set\n",
    "splits = rdd.randomSplit([0.7, 0.3])\n",
    "train_set = splits[0]\n",
    "test = splits[1]\n",
    "train_set.show()"
   ]
  },
  {
   "cell_type": "code",
   "execution_count": 13,
   "metadata": {},
   "outputs": [
    {
     "name": "stdout",
     "output_type": "stream",
     "text": [
      "+-----+--------------------+\n",
      "|label|            features|\n",
      "+-----+--------------------+\n",
      "|    0|(24,[1,13],[46.0,...|\n",
      "|    0|(24,[1,13],[46.0,...|\n",
      "|    0|(24,[1,13],[46.0,...|\n",
      "|    0|(24,[1,13],[46.0,...|\n",
      "|    0|(24,[1,13],[46.0,...|\n",
      "|    0|(24,[1,13],[46.0,...|\n",
      "|    0|(24,[1,13],[46.0,...|\n",
      "|    0|(24,[1,13],[46.0,...|\n",
      "|    0|(24,[1,13],[46.0,...|\n",
      "|    0|(24,[1,13],[46.0,...|\n",
      "|    0|(24,[1,13],[46.0,...|\n",
      "|    0|(24,[1,13],[46.0,...|\n",
      "|    0|(24,[1,13],[46.0,...|\n",
      "|    0|(24,[1,13],[46.0,...|\n",
      "|    0|(24,[1,13],[46.0,...|\n",
      "|    0|(24,[1,13],[46.0,...|\n",
      "|    0|(24,[1,13],[46.0,...|\n",
      "|    0|(24,[1,13],[46.0,...|\n",
      "|    0|(24,[1,13],[46.0,...|\n",
      "|    0|(24,[1,13,19],[46...|\n",
      "+-----+--------------------+\n",
      "only showing top 20 rows\n",
      "\n",
      "LinearSVCModel: uid=LinearSVC_6e4baa75cf6b, numClasses=2, numFeatures=24\n"
     ]
    }
   ],
   "source": [
    "nt_dasets=assembler.transform(train_set).withColumn('label',(func.col('label')==1).cast('integer')).select('label','features')\n",
    "nt_dasets.show()\n",
    "nt_svc=cl.LinearSVC(maxIter=10, regParam=0.01)\n",
    "nt_svc_model=nt_svc.fit(nt_dasets)\n",
    "print(nt_svc_model)\n",
    "# Print summary\n",
    "gbtModel = nt_svc_model.stages[1]\n",
    "print(gbtModel)  # summary only"
   ]
  },
  {
   "cell_type": "code",
   "execution_count": 18,
   "metadata": {},
   "outputs": [
    {
     "name": "stdout",
     "output_type": "stream",
     "text": [
      "+----------+-----+--------------------+\n",
      "|prediction|label|            features|\n",
      "+----------+-----+--------------------+\n",
      "|       0.0|    0|(24,[1,13],[46.0,...|\n",
      "|       0.0|    0|(24,[1,13],[46.0,...|\n",
      "|       0.0|    0|(24,[1,13],[46.0,...|\n",
      "|       0.0|    0|(24,[1,13],[46.0,...|\n",
      "|       0.0|    0|(24,[1,13],[46.0,...|\n",
      "+----------+-----+--------------------+\n",
      "only showing top 5 rows\n",
      "\n"
     ]
    }
   ],
   "source": [
    "# Perform predictions on the test data\n",
    "nt_test_dasets=assembler.transform(test).withColumn('label',(func.col('label')==1).cast('integer')).select('label','features')\n",
    "predictions=nt_svc_model.transform(nt_test_dasets)\n",
    "predictions.select(\"prediction\",\"label\",\"features\").show(5)"
   ]
  },
  {
   "cell_type": "code",
   "execution_count": 19,
   "metadata": {},
   "outputs": [
    {
     "name": "stdout",
     "output_type": "stream",
     "text": [
      "Root Mean Squared Error (RMSE) on test data = 0.12564\n"
     ]
    },
    {
     "ename": "NameError",
     "evalue": "name 'model' is not defined",
     "output_type": "error",
     "traceback": [
      "\u001b[0;31m---------------------------------------------------------------------------\u001b[0m",
      "\u001b[0;31mNameError\u001b[0m                                 Traceback (most recent call last)",
      "\u001b[0;32m<ipython-input-19-bc10ac52ab61>\u001b[0m in \u001b[0;36m<module>\u001b[0;34m\u001b[0m\n\u001b[1;32m      6\u001b[0m \u001b[0mprint\u001b[0m\u001b[0;34m(\u001b[0m\u001b[0;34m\"Root Mean Squared Error (RMSE) on test data = %g\"\u001b[0m \u001b[0;34m%\u001b[0m \u001b[0mrmse\u001b[0m\u001b[0;34m)\u001b[0m\u001b[0;34m\u001b[0m\u001b[0;34m\u001b[0m\u001b[0m\n\u001b[1;32m      7\u001b[0m \u001b[0;31m# Print summary\u001b[0m\u001b[0;34m\u001b[0m\u001b[0;34m\u001b[0m\u001b[0;34m\u001b[0m\u001b[0m\n\u001b[0;32m----> 8\u001b[0;31m \u001b[0mgbtModel\u001b[0m \u001b[0;34m=\u001b[0m \u001b[0mmodel\u001b[0m\u001b[0;34m.\u001b[0m\u001b[0mstages\u001b[0m\u001b[0;34m[\u001b[0m\u001b[0;36m1\u001b[0m\u001b[0;34m]\u001b[0m\u001b[0;34m\u001b[0m\u001b[0;34m\u001b[0m\u001b[0m\n\u001b[0m\u001b[1;32m      9\u001b[0m \u001b[0mprint\u001b[0m\u001b[0;34m(\u001b[0m\u001b[0mgbtModel\u001b[0m\u001b[0;34m)\u001b[0m  \u001b[0;31m# summary only\u001b[0m\u001b[0;34m\u001b[0m\u001b[0;34m\u001b[0m\u001b[0m\n",
      "\u001b[0;31mNameError\u001b[0m: name 'model' is not defined"
     ]
    }
   ],
   "source": [
    "from pyspark.ml.evaluation import RegressionEvaluator\n",
    "# Evaluate the performance of our model using RMSE\n",
    "evaluator = RegressionEvaluator(\n",
    "    labelCol=\"label\", predictionCol=\"prediction\", metricName=\"rmse\")\n",
    "rmse = evaluator.evaluate(predictions)\n",
    "print(\"Root Mean Squared Error (RMSE) on test data = %g\" % rmse)"
   ]
  },
  {
   "cell_type": "code",
   "execution_count": 30,
   "metadata": {},
   "outputs": [
    {
     "name": "stdout",
     "output_type": "stream",
     "text": [
      "OneVsRestModel_0c58249f9f25\n"
     ]
    }
   ],
   "source": [
    "from pyspark.ml.classification import LogisticRegression, OneVsRest\n",
    "from pyspark.ml import Pipeline\n",
    "\n",
    "ntr_datasets=assembler.transform(train_set).withColumn('label',(func.col('label')==1).cast('integer')).select('label','features')\n",
    "#featureIndexer =feat.VectorIndexer(inputCol=\"features\", outputCol=\"prediction\", maxCategories=2).fit(ntr_datasets)\n",
    "lr = LogisticRegression(featuresCol=\"features\",labelCol='label')\n",
    "# pipeline = Pipeline(stages=[featureIndexer, rf])\n",
    "ovr=OneVsRest(classifier=lr)\n",
    "lr_model=ovr.fit(ntr_datasets)\n",
    "print(lr_model)"
   ]
  },
  {
   "cell_type": "code",
   "execution_count": 32,
   "metadata": {},
   "outputs": [
    {
     "name": "stdout",
     "output_type": "stream",
     "text": [
      "+-----+--------------------+\n",
      "|label|            features|\n",
      "+-----+--------------------+\n",
      "|    0|(24,[1,13],[46.0,...|\n",
      "|    0|(24,[1,13],[46.0,...|\n",
      "|    0|(24,[1,13],[46.0,...|\n",
      "|    0|(24,[1,13],[46.0,...|\n",
      "|    0|(24,[1,13],[46.0,...|\n",
      "|    0|(24,[1,13],[46.0,...|\n",
      "|    0|(24,[1,13],[46.0,...|\n",
      "|    0|(24,[1,13],[46.0,...|\n",
      "|    0|(24,[1,13],[46.0,...|\n",
      "|    0|(24,[1,13],[46.0,...|\n",
      "+-----+--------------------+\n",
      "only showing top 10 rows\n",
      "\n",
      "None\n",
      "+----------+-----+--------------------+\n",
      "|prediction|label|            features|\n",
      "+----------+-----+--------------------+\n",
      "|       0.0|    0|(24,[1,13],[46.0,...|\n",
      "|       0.0|    0|(24,[1,13],[46.0,...|\n",
      "|       0.0|    0|(24,[1,13],[46.0,...|\n",
      "|       0.0|    0|(24,[1,13],[46.0,...|\n",
      "|       0.0|    0|(24,[1,13],[46.0,...|\n",
      "+----------+-----+--------------------+\n",
      "only showing top 5 rows\n",
      "\n"
     ]
    }
   ],
   "source": [
    "print(ntr_datasets.show(10))\n",
    "\n",
    "# Perform predictions on the test data\n",
    "nt_test_dasets=assembler.transform(test).withColumn('label',(func.col('label')==1).cast('integer')).select('label','features')\n",
    "predictions=lr_model.transform(nt_test_dasets)\n",
    "predictions.select(\"prediction\",\"label\",\"features\").show(5)"
   ]
  },
  {
   "cell_type": "code",
   "execution_count": 33,
   "metadata": {},
   "outputs": [
    {
     "name": "stdout",
     "output_type": "stream",
     "text": [
      "Root Mean Squared Error (RMSE) Logistic Regresion = 0.107343\n"
     ]
    }
   ],
   "source": [
    "# Evaluate the performance of our model using RMSE\n",
    "evaluator = RegressionEvaluator(labelCol=\"label\", predictionCol=\"prediction\", metricName=\"rmse\")\n",
    "rmse = evaluator.evaluate(predictions)\n",
    "print(\"Root Mean Squared Error (RMSE) Logistic Regresion = %g\" % rmse)"
   ]
  },
  {
   "cell_type": "code",
   "execution_count": 37,
   "metadata": {},
   "outputs": [
    {
     "name": "stdout",
     "output_type": "stream",
     "text": [
      "[array([4.87496070e-01, 4.28598146e+02, 1.57521163e+03, 9.27551238e+01,\n",
      "       1.56329460e+01, 2.00940380e-01, 6.54665120e-01, 7.27648636e+07,\n",
      "       4.12865454e+05, 6.18974615e+00, 5.48698559e+00, 1.57126369e+06,\n",
      "       1.78446811e+06, 9.48962187e+01, 5.34263612e+01, 3.08050976e-03,\n",
      "       1.71745159e+02, 9.15077611e+01, 6.17155357e+01, 4.22120873e+02,\n",
      "       1.47357396e+02, 5.55348485e-05, 3.62240660e-05, 1.93107826e-05]), array([7.17961859e-01, 6.39299185e+03, 6.40067480e+04, 3.43322891e+01,\n",
      "       3.34688773e+01, 8.84769764e+00, 2.88955022e+01, 1.18242125e+06,\n",
      "       4.25392201e+06, 2.55000000e+02, 2.54922066e+02, 1.95670831e+09,\n",
      "       1.97272856e+09, 1.36437194e+02, 4.52588223e+02, 1.40153830e-01,\n",
      "       6.97894654e+03, 1.90101862e+03, 1.20210651e+03, 1.95312626e+01,\n",
      "       1.72819539e+01, 4.18716722e-03, 2.30952911e-03, 1.87763812e-03]), array([7.60686857e-01, 7.31146900e+03, 6.39223173e+04, 3.72692108e+01,\n",
      "       3.73906023e+01, 9.01077362e+00, 2.86674455e+01, 1.13746462e+06,\n",
      "       4.06648197e+06, 2.55000000e+02, 2.54967212e+02, 9.44572499e+08,\n",
      "       9.62778474e+08, 1.41193458e+02, 4.44938733e+02, 1.40628245e-01,\n",
      "       8.00696747e+03, 2.29880342e+03, 1.19063375e+03, 2.40692971e+01,\n",
      "       2.25765193e+01, 7.23800315e-03, 3.96266285e-03, 3.27534030e-03]), array([1.20824936e+00, 1.24320813e+04, 2.61010212e+04, 9.40203130e+01,\n",
      "       1.13209449e+02, 7.39948841e+00, 1.19571171e+01, 1.43394449e+06,\n",
      "       5.93582676e+05, 2.54857057e+02, 2.52305447e+02, 1.84485931e+09,\n",
      "       2.99733779e+08, 2.22477580e+02, 2.72431688e+02, 1.30454409e-01,\n",
      "       2.30478047e+03, 9.46971345e+03, 1.14828400e+03, 1.16077999e+02,\n",
      "       1.56733147e+02, 6.73720844e-02, 3.41777466e-02, 3.31943378e-02]), array([7.88791729e-01, 6.86032689e+03, 6.21494535e+04, 3.96622748e+01,\n",
      "       4.08201229e+01, 8.69745339e+00, 2.78562910e+01, 1.12077974e+06,\n",
      "       3.99382987e+06, 2.54993360e+02, 2.54908004e+02, 6.18625829e+08,\n",
      "       6.39825549e+08, 1.43659098e+02, 4.42346032e+02, 1.39048016e-01,\n",
      "       7.27215212e+03, 2.52085752e+03, 1.20884635e+03, 2.68465775e+01,\n",
      "       2.66729060e+01, 9.77595476e-03, 5.18400573e-03, 4.59194904e-03]), array([7.83179879e-01, 6.88127401e+03, 6.57237197e+04, 3.75728394e+01,\n",
      "       3.80542909e+01, 8.82266846e+00, 2.92609202e+01, 1.09071667e+06,\n",
      "       4.05790274e+06, 2.54997442e+02, 2.54980628e+02, 1.27753877e+09,\n",
      "       1.29619724e+09, 1.39291813e+02, 4.52483351e+02, 1.41779140e-01,\n",
      "       7.94360024e+03, 2.38340663e+03, 1.21362454e+03, 2.50853085e+01,\n",
      "       2.42563726e+01, 7.38550945e-03, 3.99205813e-03, 3.39345132e-03]), array([7.71801421e-01, 6.74875944e+03, 6.25379656e+04, 3.92833605e+01,\n",
      "       4.01635990e+01, 8.60481916e+00, 2.79127208e+01, 1.11241365e+06,\n",
      "       3.97260654e+06, 2.55000000e+02, 2.54974766e+02, 1.61004705e+09,\n",
      "       1.63415646e+09, 1.42756148e+02, 4.45557889e+02, 1.43461481e-01,\n",
      "       7.10972500e+03, 2.54769651e+03, 1.21794017e+03, 2.71116204e+01,\n",
      "       2.68779613e+01, 9.06421929e-03, 4.82924514e-03, 4.23497415e-03]), array([7.80264405e-01, 6.91058484e+03, 6.50508656e+04, 3.67503820e+01,\n",
      "       3.68412375e+01, 8.83335567e+00, 2.90776923e+01, 1.15106298e+06,\n",
      "       4.09800530e+06, 2.54988204e+02, 2.54815420e+02, 2.98741412e+08,\n",
      "       3.21713997e+08, 1.39451972e+02, 4.51780274e+02, 1.43776306e-01,\n",
      "       7.78226678e+03, 2.36248703e+03, 1.21250059e+03, 2.47863009e+01,\n",
      "       2.35046796e+01, 6.62165369e-03, 3.56721828e-03, 3.05443540e-03]), array([2.42531222e-06, 5.83118497e+02, 0.00000000e+00, 1.33064706e+02,\n",
      "       0.00000000e+00, 0.00000000e+00, 0.00000000e+00, 1.05292055e+09,\n",
      "       0.00000000e+00, 5.01524240e-02, 0.00000000e+00, 2.41179919e+05,\n",
      "       0.00000000e+00, 2.89475465e+02, 0.00000000e+00, 0.00000000e+00,\n",
      "       0.00000000e+00, 3.75587998e+01, 0.00000000e+00, 3.75611938e+01,\n",
      "       0.00000000e+00, 0.00000000e+00, 0.00000000e+00, 0.00000000e+00]), array([1.37155405e+00, 1.52252524e+04, 1.27110865e+04, 1.39382257e+02,\n",
      "       1.74260057e+02, 7.83170254e+00, 6.45140248e+00, 9.60285976e+04,\n",
      "       5.02682165e+04, 2.54988476e+02, 2.54778213e+02, 4.91497023e+08,\n",
      "       1.65539600e+09, 2.45548163e+02, 1.90410089e+02, 1.55686019e-01,\n",
      "       1.34029072e+03, 1.14029319e+04, 1.23786511e+03, 1.35800043e+02,\n",
      "       1.76768256e+02, 1.08536360e-01, 5.57960013e-02, 5.27403590e-02])]\n"
     ]
    }
   ],
   "source": [
    "from pyspark.ml.clustering import KMeans\n",
    "\n",
    "kmean = KMeans()\n",
    "kmean.setK(10) # Set the number of classes ort centroids\n",
    "kmean.setSeed(33) # Make initialization to be deterministic\n",
    "# Transform the data to create a vector\n",
    "cluster_datasets=assembler.transform(train_set).withColumn('label',(func.col('label')==1).cast('integer')).select('label','features')\n",
    "\n",
    "model = kmean.fit(cluster_datasets)\n",
    "print(model.clusterCenters())"
   ]
  },
  {
   "cell_type": "code",
   "execution_count": 40,
   "metadata": {},
   "outputs": [
    {
     "name": "stdout",
     "output_type": "stream",
     "text": [
      "Cluster Centers: \n",
      "[4.87496070e-01 4.28598146e+02 1.57521163e+03 9.27551238e+01\n",
      " 1.56329460e+01 2.00940380e-01 6.54665120e-01 7.27648636e+07\n",
      " 4.12865454e+05 6.18974615e+00 5.48698559e+00 1.57126369e+06\n",
      " 1.78446811e+06 9.48962187e+01 5.34263612e+01 3.08050976e-03\n",
      " 1.71745159e+02 9.15077611e+01 6.17155357e+01 4.22120873e+02\n",
      " 1.47357396e+02 5.55348485e-05 3.62240660e-05 1.93107826e-05]\n",
      "[7.17961859e-01 6.39299185e+03 6.40067480e+04 3.43322891e+01\n",
      " 3.34688773e+01 8.84769764e+00 2.88955022e+01 1.18242125e+06\n",
      " 4.25392201e+06 2.55000000e+02 2.54922066e+02 1.95670831e+09\n",
      " 1.97272856e+09 1.36437194e+02 4.52588223e+02 1.40153830e-01\n",
      " 6.97894654e+03 1.90101862e+03 1.20210651e+03 1.95312626e+01\n",
      " 1.72819539e+01 4.18716722e-03 2.30952911e-03 1.87763812e-03]\n",
      "[7.60686857e-01 7.31146900e+03 6.39223173e+04 3.72692108e+01\n",
      " 3.73906023e+01 9.01077362e+00 2.86674455e+01 1.13746462e+06\n",
      " 4.06648197e+06 2.55000000e+02 2.54967212e+02 9.44572499e+08\n",
      " 9.62778474e+08 1.41193458e+02 4.44938733e+02 1.40628245e-01\n",
      " 8.00696747e+03 2.29880342e+03 1.19063375e+03 2.40692971e+01\n",
      " 2.25765193e+01 7.23800315e-03 3.96266285e-03 3.27534030e-03]\n",
      "[1.20824936e+00 1.24320813e+04 2.61010212e+04 9.40203130e+01\n",
      " 1.13209449e+02 7.39948841e+00 1.19571171e+01 1.43394449e+06\n",
      " 5.93582676e+05 2.54857057e+02 2.52305447e+02 1.84485931e+09\n",
      " 2.99733779e+08 2.22477580e+02 2.72431688e+02 1.30454409e-01\n",
      " 2.30478047e+03 9.46971345e+03 1.14828400e+03 1.16077999e+02\n",
      " 1.56733147e+02 6.73720844e-02 3.41777466e-02 3.31943378e-02]\n",
      "[7.88791729e-01 6.86032689e+03 6.21494535e+04 3.96622748e+01\n",
      " 4.08201229e+01 8.69745339e+00 2.78562910e+01 1.12077974e+06\n",
      " 3.99382987e+06 2.54993360e+02 2.54908004e+02 6.18625829e+08\n",
      " 6.39825549e+08 1.43659098e+02 4.42346032e+02 1.39048016e-01\n",
      " 7.27215212e+03 2.52085752e+03 1.20884635e+03 2.68465775e+01\n",
      " 2.66729060e+01 9.77595476e-03 5.18400573e-03 4.59194904e-03]\n",
      "[7.83179879e-01 6.88127401e+03 6.57237197e+04 3.75728394e+01\n",
      " 3.80542909e+01 8.82266846e+00 2.92609202e+01 1.09071667e+06\n",
      " 4.05790274e+06 2.54997442e+02 2.54980628e+02 1.27753877e+09\n",
      " 1.29619724e+09 1.39291813e+02 4.52483351e+02 1.41779140e-01\n",
      " 7.94360024e+03 2.38340663e+03 1.21362454e+03 2.50853085e+01\n",
      " 2.42563726e+01 7.38550945e-03 3.99205813e-03 3.39345132e-03]\n",
      "[7.71801421e-01 6.74875944e+03 6.25379656e+04 3.92833605e+01\n",
      " 4.01635990e+01 8.60481916e+00 2.79127208e+01 1.11241365e+06\n",
      " 3.97260654e+06 2.55000000e+02 2.54974766e+02 1.61004705e+09\n",
      " 1.63415646e+09 1.42756148e+02 4.45557889e+02 1.43461481e-01\n",
      " 7.10972500e+03 2.54769651e+03 1.21794017e+03 2.71116204e+01\n",
      " 2.68779613e+01 9.06421929e-03 4.82924514e-03 4.23497415e-03]\n",
      "[7.80264405e-01 6.91058484e+03 6.50508656e+04 3.67503820e+01\n",
      " 3.68412375e+01 8.83335567e+00 2.90776923e+01 1.15106298e+06\n",
      " 4.09800530e+06 2.54988204e+02 2.54815420e+02 2.98741412e+08\n",
      " 3.21713997e+08 1.39451972e+02 4.51780274e+02 1.43776306e-01\n",
      " 7.78226678e+03 2.36248703e+03 1.21250059e+03 2.47863009e+01\n",
      " 2.35046796e+01 6.62165369e-03 3.56721828e-03 3.05443540e-03]\n",
      "[2.42531222e-06 5.83118497e+02 0.00000000e+00 1.33064706e+02\n",
      " 0.00000000e+00 0.00000000e+00 0.00000000e+00 1.05292055e+09\n",
      " 0.00000000e+00 5.01524240e-02 0.00000000e+00 2.41179919e+05\n",
      " 0.00000000e+00 2.89475465e+02 0.00000000e+00 0.00000000e+00\n",
      " 0.00000000e+00 3.75587998e+01 0.00000000e+00 3.75611938e+01\n",
      " 0.00000000e+00 0.00000000e+00 0.00000000e+00 0.00000000e+00]\n",
      "[1.37155405e+00 1.52252524e+04 1.27110865e+04 1.39382257e+02\n",
      " 1.74260057e+02 7.83170254e+00 6.45140248e+00 9.60285976e+04\n",
      " 5.02682165e+04 2.54988476e+02 2.54778213e+02 4.91497023e+08\n",
      " 1.65539600e+09 2.45548163e+02 1.90410089e+02 1.55686019e-01\n",
      " 1.34029072e+03 1.14029319e+04 1.23786511e+03 1.35800043e+02\n",
      " 1.76768256e+02 1.08536360e-01 5.57960013e-02 5.27403590e-02]\n",
      "+-----+--------------------+----------+----------+\n",
      "|label|            features|attack_cat|prediction|\n",
      "+-----+--------------------+----------+----------+\n",
      "|    0|(24,[1,13],[46.0,...|      null|         0|\n",
      "|    0|(24,[1,13],[46.0,...|      null|         0|\n",
      "|    0|(24,[1,13],[46.0,...|      null|         0|\n",
      "|    0|(24,[1,13],[46.0,...|      null|         0|\n",
      "|    0|(24,[1,13],[46.0,...|      null|         0|\n",
      "|    0|(24,[1,13],[46.0,...|      null|         0|\n",
      "|    0|(24,[1,13],[46.0,...|      null|         0|\n",
      "|    0|(24,[1,13],[46.0,...|      null|         0|\n",
      "|    0|(24,[1,13],[46.0,...|      null|         0|\n",
      "|    0|(24,[1,13,19],[46...|      null|         0|\n",
      "|    0|(24,[1,13,19],[46...|      null|         0|\n",
      "|    0|(24,[1,13,19],[46...|      null|         0|\n",
      "|    0|(24,[1,13,19],[46...|      null|         0|\n",
      "|    0|(24,[1,13,19],[46...|      null|         0|\n",
      "|    0|(24,[1,13,19],[46...|      null|         0|\n",
      "|    0|(24,[1,13,19],[46...|      null|         0|\n",
      "|    0|(24,[1,13,19],[46...|      null|         0|\n",
      "|    0|(24,[1,13,19],[46...|      null|         0|\n",
      "|    0|(24,[1,13,19],[46...|      null|         0|\n",
      "|    0|(24,[1,13,19],[46...|      null|         0|\n",
      "+-----+--------------------+----------+----------+\n",
      "only showing top 20 rows\n",
      "\n"
     ]
    }
   ],
   "source": [
    "from pyspark.ml.evaluation import ClusteringEvaluator\n",
    "# Shows the result.\n",
    "centers = model.clusterCenters()\n",
    "print(\"Cluster Centers: \")\n",
    "for center in centers:\n",
    "    print(center)\n",
    "\n",
    "test_datasets=assembler.transform(test).withColumn('label',(func.col('label')==1).cast('integer')).select('label','features','attack_cat')\n",
    "predictions=model.transform(test_datasets)\n",
    "predictions.show(20)\n"
   ]
  },
  {
   "cell_type": "code",
   "execution_count": 42,
   "metadata": {},
   "outputs": [
    {
     "name": "stdout",
     "output_type": "stream",
     "text": [
      "Silhouette with squared euclidean distance = 0.8235853494344024\n"
     ]
    }
   ],
   "source": [
    "# Evaluate cluster performance\n",
    "evaluator = ClusteringEvaluator()\n",
    "silhouette = evaluator.evaluate(predictions)\n",
    "print(\"Silhouette with squared euclidean distance = \" + str(silhouette))"
   ]
  },
  {
   "cell_type": "code",
   "execution_count": 43,
   "metadata": {},
   "outputs": [
    {
     "name": "stdout",
     "output_type": "stream",
     "text": [
      "+----------+------+\n",
      "|prediction| count|\n",
      "+----------+------+\n",
      "|         1| 16760|\n",
      "|         6| 17548|\n",
      "|         3|  2816|\n",
      "|         5| 16943|\n",
      "|         9|  1958|\n",
      "|         4| 16587|\n",
      "|         8|  4431|\n",
      "|         7| 15945|\n",
      "|         2| 16656|\n",
      "|         0|316127|\n",
      "+----------+------+\n",
      "\n"
     ]
    }
   ],
   "source": [
    "# View the counts in each group\n",
    "predictions.groupBy(\"prediction\").count().show(20)"
   ]
  },
  {
   "cell_type": "code",
   "execution_count": 45,
   "metadata": {},
   "outputs": [
    {
     "name": "stdout",
     "output_type": "stream",
     "text": [
      "+---------------+------+\n",
      "|     attack_cat| count|\n",
      "+---------------+------+\n",
      "|          Worms|    20|\n",
      "|           null|342445|\n",
      "|       Analysis|   657|\n",
      "|     Shellcode |   247|\n",
      "|            DoS|  4218|\n",
      "|Reconnaissance |  2296|\n",
      "|       Backdoor|   489|\n",
      "|       Fuzzers |  3011|\n",
      "|       Exploits|  7125|\n",
      "|        Generic| 63950|\n",
      "|      Shellcode|    51|\n",
      "|      Backdoors|   153|\n",
      "|        Fuzzers|   803|\n",
      "| Reconnaissance|   306|\n",
      "+---------------+------+\n",
      "\n"
     ]
    }
   ],
   "source": [
    "test_datasets.groupBy(\"attack_cat\").count().show()"
   ]
  }
 ],
 "metadata": {
  "kernelspec": {
   "display_name": "Python 3",
   "language": "python",
   "name": "python3"
  },
  "language_info": {
   "codemirror_mode": {
    "name": "ipython",
    "version": 3
   },
   "file_extension": ".py",
   "mimetype": "text/x-python",
   "name": "python",
   "nbconvert_exporter": "python",
   "pygments_lexer": "ipython3",
   "version": "3.8.10"
  }
 },
 "nbformat": 4,
 "nbformat_minor": 4
}
